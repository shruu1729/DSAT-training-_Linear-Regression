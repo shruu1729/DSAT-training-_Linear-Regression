{
 "cells": [
  {
   "cell_type": "markdown",
   "metadata": {
    "_uuid": "fec1f91392aebc901f8355b53fdda3bcbe290cb4"
   },
   "source": [
    "# Credit Card Fraud Detection\n",
    "\n",
    "### Background\n",
    "“Continuing the trend of prior years, the cost of fraud continues to rise for global financial institutions...Fraudsters continuously test for the weakest entry point in the financial transaction system and these institutions should apply a multi-layered approach to fraud prevention to combat this growing issue.”\n",
    "-LexisNexis Risk Solutions Sr. Director of Fraud and Identity Management Strategy Kimberly Sutherland   \n",
    "Nilson reports that card fraud (credit, debt, etc) was reportedly [31.26](https://www.aba.com/Products/Endorsed/Documents/Rippleshot-State-of-Card-Fraud.pdf) billion dollars in 2018 and expected to increase to  [32.82](https://www.aba.com/Products/Endorsed/Documents/Rippleshot-State-of-Card-Fraud.pdf) billion dollars in 2019.   \n",
    "For perspective, in 2018 both PayPal's and Mastercard's revenue were only [15.45](https://www.paypal.com/stories/us/paypal-reports-fourth-quarter-and-full-year-2018-results) and [14.95](https://www.macrotrends.net/stocks/charts/MA/mastercard/revenue) billion dollars each. \n",
    "\n",
    "### Detecting Fraud is typically challenging because of these four characteristics of fraud:  \n",
    "1. Uncommon: Fraud cases are in a minority, sometimes only 0, sometimes only 0.01% of a company’s transactions are fraudulent. If there are few cases of fraud, then there's little data to learn how to identify them.  This is known as **class imbalance**, and it's one of the main challenges of fraud detection. \n",
    "2. Concealed: Fraudsters will also try their best to blend in and conceal their activities. \n",
    "3. Change over time: Fraudsters will find new methods to avoid getting caught and change their behaviors over time.\n",
    "4. Organized: Fraudsters oftentimes work together and organize their activities in a network, making it harder to detect. \n",
    "\n",
    "### How does a company deal with fraud?  \n",
    "1. Use rules-based systems,based on manually set thresholds and experience to filter out strange cases.\n",
    "2. Check the news: the fraud analytics team check the news for suspicious names. \n",
    "3. Receive external lists of fraudulent accounts and names: keep track of the external hits lists from the police to reference check against the client base.\n",
    "4. Use machine learning algorithms to detect suspicious names and behaviors.\n",
    "5. Combine different strategies and various models together to avoid sub-par detection results since organized crime schemes are so sophisticated and quick to adapt. \n",
    "\n",
    "### Machine Learning in Fraud Detection \n",
    "Traditional rules-based expert systems are not enough to catch fraud. They can do an excellent job of uncovering known patterns; but alone aren’t very effective at uncovering unknown schemes, adapting to new fraud patterns, or handling fraudsters’ increasingly sophisticated techniques. And this is where machine learning becomes necessary for fraud detection.   \n",
    "Many in the financial services industry have updated their fraud detection to include some basic machine learning algorithms including various clustering classifiers, linear approaches, and support vector machines. The most advanced companies in the financial services industry, such as PayPal, have been pioneering more advanced artificial intelligence techniques such as deep neural networks and autoencoders. \n",
    "When building a machine-learning model suite for fraud detection, it is very important not only to identify bad activity(high true positive rate) but also to allow good transactions to go through(low false positive rate).    \n",
    "\n",
    "### Supervised and Unsupervised Machine Learning\n",
    "\n",
    "* Supervised Machine Learning: A model that is trained on a set of properly “labeled” transactions. Each transaction is tagged as either fraud or non-fraud.  Supervised machine learning model accuracy is directly correlated with the amount of clean, relevant training data. Common supervised machine learning methods include linear regression, logistic regression, \n",
    "* Unsupervised Machine Learning: A model that is trained in cases where tagged transaction data is relatively thin or non-existent. Unsupervised models are designed to discover outliers that represent previously unseen forms of fraud. In the real world of fraud detection, well labeled data is very rare. Therefore supervised machine learning methods alone can not do a good job and unsupervised learning will play an important role in the war. \n",
    "\n",
    "### Model Evaluation in Credit Card Fraud Detection\n",
    "* Accuracy isn't everything. When working with highly imbalanced data, accuracy is not a reliable performance metric. Because by doing nothing but just predicting everything is in the maority class, you can obtain a higher accuracy than  by building a predictive model.  \n",
    "* Precision: true positives / (true positives + false positives)  \n",
    "* Recall : true positives / (true positives +false negatives) \n",
    "* F1-score: 2 x Precision x Recall / (Precision + Recall) = 2 x TP / (2 x TP + FP + FN)   \n",
    "* A credit card company wants to watch as much fraud as possible(reduce false negatives) as fraudulent transactios can be very costly and a false alarm means someone's transaction is blocked(reduce false positives). The credit card company therefore wants to optimize recall. F-score takes into account a balance between precision and recall.  \n",
    "* Precision-Recall Curve(PR): Precision vs. Recall at various threshold settings.  \n",
    "* Average Precision(AP): \n",
    "* Receiver Operating Characteristic Curve(ROC): Ture positive rate vs. False positive rate at various shreshold settings. It's useful to compare performance of different algorithms for fraud detection.  \n",
    "*  Area Under the Receiver Operating Characteristic Curve (ROCAUC):  \n",
    "* The AUROC answers the question: \"How well can this classifier be expected to perform in general, at a variety of different baseline probabilities?\" but precision and recall don't. \n",
    "* Confusion Matrix: shows how many fraud cases you can predict correctly.  \n",
    "* Classification Report: tells you about the precision and recall of your model. \n",
    "\n",
    "### Map of This Project\n",
    "This project will use several different machine learning algorithms, from logistic regression to one of more advanced techniques, autoencoders.  \n",
    "Module 1: Data Exploration  \n",
    "Module 2: Resampling for Imbalanced Data  \n",
    "Module 3: Logistic Regression    \n",
    "Module 4: Decision Tree Classifier  \n",
    "Module 5: Random Forest Classifier  \n",
    "Module 6: Voting Classifier  \n",
    "Module 7: K-means Clustering   \n",
    "Module 9: BDS  \n",
    "Module 9: Autoencoder Neural Networks\n",
    "\n",
    "### Dataset Context \n",
    "* The data contains **284,807** European credit card transactions with **492** fraudulent transactions that occurred over two days in September 2013.    \n",
    "* Everything except the time and amount has been reduced by a Principle Component Analysis (PCA) for privacy concerns.  Features V1, V2, ... V28 are the principal components obtained with PCA, the only features which have not been transformed with PCA are 'Time' and 'Amount'. \n",
    "* In order to implement a PCA transformation, features need to be previously **scaled**. So features V1, V2, ... V28 have been scaled already.  \n",
    "* Feature **'Time'** contains the seconds elapsed between each transaction and the first transaction in the dataset.   \n",
    "* The feature **'Amount'** is the transaction Amount, this feature can be used for example-dependant cost-senstive learning.    \n",
    "* Feature **'Class'** is the response variable and it takes value 1 in case of fraud and 0 otherwise.    \n",
    "* The dataset is highly **unbalanced**, the positive class (frauds) account for **0.172%** of all transactions. Given the class imbalance ratio, Area Under the Precision-Recall Curve (AUPRC) are recommend to measure the accuracy.  Confusion matrix accuracy is not meaningful for unbalanced classification due to this [Accuracy Paradox](https://en.wikipedia.org/wiki/Accuracy_paradox)"
   ]
  },
  {
   "cell_type": "markdown",
   "metadata": {
    "_uuid": "9811aefa57fc31818d1799d0d42723eb7a0c44ad"
   },
   "source": [
    "#  Module 1: Data Exploration"
   ]
  },
  {
   "cell_type": "markdown",
   "metadata": {
    "_uuid": "8420f4cd733e7329b86f7d3b07ca8fbf76f0c5e2"
   },
   "source": [
    "## Import modules, methods and our dataset\n"
   ]
  },
  {
   "cell_type": "code",
   "execution_count": 1,
   "metadata": {
    "_cell_guid": "b1076dfc-b9ad-4769-8c92-a6c4dae69d19",
    "_uuid": "8f2839f25d086af736a60e9eeb907d3b93b6e0e5"
   },
   "outputs": [
    {
     "name": "stdout",
     "output_type": "stream",
     "text": [
      "['creditcard.csv']\n"
     ]
    }
   ],
   "source": [
    "# This Python 3 environment comes with many helpful analytics libraries installed\n",
    "# It is defined by the kaggle/python docker image: https://github.com/kaggle/docker-python\n",
    "# For example, here's several helpful packages to load in \n",
    "\n",
    "import numpy as np # linear algebra\n",
    "import pandas as pd # data processing, CSV file I/O (e.g. pd.read_csv)\n",
    "import matplotlib.pyplot as plt\n",
    "\n",
    "# Input data files are available in the \"../input/\" directory.\n",
    "# For example, running this (by clicking run or pressing Shift+Enter) will list the files in the input directory\n",
    "\n",
    "import os\n",
    "print(os.listdir(\"../input\"))\n",
    "\n",
    "# Any results you write to the current directory are saved as output.\n",
    "\n",
    "# Read csv\n",
    "df = pd.read_csv(\"../input/creditcard.csv\")\n"
   ]
  },
  {
   "cell_type": "markdown",
   "metadata": {
    "_cell_guid": "79c7e3d0-c299-4dcb-8224-4455121ee9b0",
    "_uuid": "d629ff2d2480ee46fbb7e2d37f6b5fab8052498a",
    "collapsed": true
   },
   "source": [
    "## Check and visulaize Fraud to Non-fraud Ratio"
   ]
  },
  {
   "cell_type": "code",
   "execution_count": 2,
   "metadata": {
    "_uuid": "1c0e06dd57a987e8c22d0e59037a948ac5f2a8e4"
   },
   "outputs": [
    {
     "name": "stdout",
     "output_type": "stream",
     "text": [
      "<class 'pandas.core.frame.DataFrame'>\n",
      "RangeIndex: 284807 entries, 0 to 284806\n",
      "Data columns (total 31 columns):\n",
      "Time      284807 non-null float64\n",
      "V1        284807 non-null float64\n",
      "V2        284807 non-null float64\n",
      "V3        284807 non-null float64\n",
      "V4        284807 non-null float64\n",
      "V5        284807 non-null float64\n",
      "V6        284807 non-null float64\n",
      "V7        284807 non-null float64\n",
      "V8        284807 non-null float64\n",
      "V9        284807 non-null float64\n",
      "V10       284807 non-null float64\n",
      "V11       284807 non-null float64\n",
      "V12       284807 non-null float64\n",
      "V13       284807 non-null float64\n",
      "V14       284807 non-null float64\n",
      "V15       284807 non-null float64\n",
      "V16       284807 non-null float64\n",
      "V17       284807 non-null float64\n",
      "V18       284807 non-null float64\n",
      "V19       284807 non-null float64\n",
      "V20       284807 non-null float64\n",
      "V21       284807 non-null float64\n",
      "V22       284807 non-null float64\n",
      "V23       284807 non-null float64\n",
      "V24       284807 non-null float64\n",
      "V25       284807 non-null float64\n",
      "V26       284807 non-null float64\n",
      "V27       284807 non-null float64\n",
      "V28       284807 non-null float64\n",
      "Amount    284807 non-null float64\n",
      "Class     284807 non-null int64\n",
      "dtypes: float64(30), int64(1)\n",
      "memory usage: 67.4 MB\n",
      "count    284807.000000\n",
      "mean         88.349619\n",
      "std         250.120109\n",
      "min           0.000000\n",
      "25%           5.600000\n",
      "50%          22.000000\n",
      "75%          77.165000\n",
      "max       25691.160000\n",
      "Name: Amount, dtype: float64\n",
      "0    0.998273\n",
      "1    0.001727\n",
      "Name: Class, dtype: float64\n"
     ]
    },
    {
     "data": {
      "text/plain": [
       "<matplotlib.axes._subplots.AxesSubplot at 0x7f04f31c8908>"
      ]
     },
     "execution_count": 2,
     "metadata": {},
     "output_type": "execute_result"
    },
    {
     "data": {
      "image/png": "[encoded data removed]",
      "text/plain": [
       "<Figure size 432x288 with 1 Axes>"
      ]
     },
     "metadata": {},
     "output_type": "display_data"
    }
   ],
   "source": [
    "# Explore the features avaliable in our dataframe\n",
    "df.shape\n",
    "df.info()\n",
    "df.head()\n",
    "df.describe()\n",
    "print(df.Amount.describe())\n",
    "\n",
    "# Count the occurrences of fraud and no fraud cases\n",
    "fnf = df[\"Class\"].value_counts()\n",
    "\n",
    "# Print the ratio of fraud cases \n",
    "print(fnf/len(df))\n",
    "\n",
    "# Plottingg your data\n",
    "plt.xlabel(\"Class\")\n",
    "plt.ylabel(\"Number of Observations\")\n",
    "fnf.plot(kind = 'bar',title = 'Frequency by observation number',rot=0)"
   ]
  },
  {
   "cell_type": "code",
   "execution_count": 3,
   "metadata": {
    "_uuid": "29ff4ee51ded5da0440953ed84f97ab71e63c48c"
   },
   "outputs": [
    {
     "data": {
      "image/png": "[encoded data removed]",
      "text/plain": [
       "<Figure size 432x288 with 1 Axes>"
      ]
     },
     "metadata": {},
     "output_type": "display_data"
    }
   ],
   "source": [
    "# Plot how fraud and non-fraud cases are scattered \n",
    "plt.scatter(df.loc[df['Class'] == 0]['V1'], df.loc[df['Class'] == 0]['V2'], label=\"Class #0\", alpha=0.5, linewidth=0.15)\n",
    "plt.scatter(df.loc[df['Class'] == 1]['V1'], df.loc[df['Class'] == 1]['V2'], label=\"Class #1\", alpha=0.5, linewidth=0.15,c='r')\n",
    "plt.show()"
   ]
  },
  {
   "cell_type": "markdown",
   "metadata": {
    "_uuid": "57bf82f1b589313e0c26b018145ace72f3ae5b3b"
   },
   "source": [
    "### Dataset Summary:\n",
    "* We have 284807 entries within 30 features and 1 target (Class).   \n",
    "* There are no \"Null\" values, so no need to work on ways to replace values.   \n",
    "* The mean of all the mounts made is relatively small, approximately USD 88.  \n",
    "* Most of the transactions were Non-Fraud (99.83%) of the time, while Fraud transactions occurs (017%) of the time in the dataframe.  "
   ]
  },
  {
   "cell_type": "markdown",
   "metadata": {
    "_uuid": "840cbe79ceac1f855f616dd9c01d7634f8e0c817"
   },
   "source": [
    "## Distribution of 2 Features : Time and Amount"
   ]
  },
  {
   "cell_type": "code",
   "execution_count": 4,
   "metadata": {
    "_uuid": "72f7cd1110b2637146d3df8294cca895a3551960"
   },
   "outputs": [
    {
     "name": "stderr",
     "output_type": "stream",
     "text": [
      "/opt/conda/lib/python3.6/site-packages/scipy/stats/stats.py:1713: FutureWarning: Using a non-tuple sequence for multidimensional indexing is deprecated; use `arr[tuple(seq)]` instead of `arr[seq]`. In the future this will be interpreted as an array index, `arr[np.array(seq)]`, which will result either in an error or a different result.\n",
      "  return np.add.reduce(sorted[indexer] * weights, axis=axis) / sumval\n"
     ]
    },
    {
     "data": {
      "image/png": "[encoded data removed]",
      "text/plain": [
       "<Figure size 1296x288 with 2 Axes>"
      ]
     },
     "metadata": {},
     "output_type": "display_data"
    }
   ],
   "source": [
    "import seaborn as sns\n",
    "\n",
    "fig, ax = plt.subplots(1, 2, figsize=(18,4))\n",
    "\n",
    "# Plot the distribution of 'Time' feature \n",
    "sns.distplot(df['Time'].values/(60*60), ax=ax[0], color='r')\n",
    "ax[0].set_title('Distribution of Transaction Time', fontsize=14)\n",
    "ax[0].set_xlim([min(df['Time'].values/(60*60)), max(df['Time'].values/(60*60))])\n",
    "\n",
    "sns.distplot(df['Amount'].values, ax=ax[1], color='b')\n",
    "ax[1].set_title('Distribution of Transaction Amount', fontsize=14)\n",
    "ax[1].set_xlim([min(df['Amount'].values), max(df['Amount'].values)])\n",
    "\n",
    "plt.show()"
   ]
  },
  {
   "cell_type": "markdown",
   "metadata": {
    "_uuid": "8d24b2241e2e53d13c990cb0c6ed25ed925ad557"
   },
   "source": [
    "### Summary:\n",
    "* Time: Most transactions happended in day time.  \n",
    "* Mean of transaction amount is 88 USD and 75% quatile is 77 USD. \n",
    "* We should better scale these two skewed features also. "
   ]
  },
  {
   "cell_type": "markdown",
   "metadata": {
    "_uuid": "915dc1ec6cf16614cf2de41d811ba8909261e8dc"
   },
   "source": [
    "## Cut Up the Dataset into Two Datasets and Summarize "
   ]
  },
  {
   "cell_type": "code",
   "execution_count": 5,
   "metadata": {
    "_uuid": "5ebfd889113fda99713d43345627c1b9b03ef601"
   },
   "outputs": [],
   "source": [
    "# Seperate total data into non-fraud and fraud cases\n",
    "df_nonfraud = df[df.Class == 0] #save non-fraud df observations into a separate df\n",
    "df_fraud = df[df.Class == 1] #do the same for frauds"
   ]
  },
  {
   "cell_type": "markdown",
   "metadata": {
    "_uuid": "668f2718750de98ce6b8b517c77c1535d3f3a577"
   },
   "source": [
    "### Compare the Amount of transactions in two separate datasets\n",
    "See if we can flag fraud cases by transaction amount"
   ]
  },
  {
   "cell_type": "code",
   "execution_count": 6,
   "metadata": {
    "_uuid": "7428d1a668a077e4fbce6ac3fba7aeaa6b4d46d1"
   },
   "outputs": [
    {
     "name": "stdout",
     "output_type": "stream",
     "text": [
      "count    284315.000000\n",
      "mean         88.291022\n",
      "std         250.105092\n",
      "min           0.000000\n",
      "25%           5.650000\n",
      "50%          22.000000\n",
      "75%          77.050000\n",
      "max       25691.160000\n",
      "Name: Amount, dtype: float64\n",
      "_________________________\n",
      "count     492.000000\n",
      "mean      122.211321\n",
      "std       256.683288\n",
      "min         0.000000\n",
      "25%         1.000000\n",
      "50%         9.250000\n",
      "75%       105.890000\n",
      "max      2125.870000\n",
      "Name: Amount, dtype: float64\n",
      "F: 9.033344712018891\n",
      "p: 0.0026512206498171095\n"
     ]
    }
   ],
   "source": [
    "# Summarize statistics and see differences between fraud and normal transactions\n",
    "print(df_nonfraud.Amount.describe())\n",
    "print('_'*25)\n",
    "print(df_fraud.Amount.describe())\n",
    "\n",
    "# Import the module\n",
    "from scipy import stats\n",
    "F, p = stats.f_oneway(df['Amount'][df['Class'] == 0], df['Amount'][df['Class'] == 1])\n",
    "print(\"F:\", F)\n",
    "print(\"p:\",p)"
   ]
  },
  {
   "cell_type": "markdown",
   "metadata": {
    "_uuid": "06cac41b26cc9471130ac0f44da2d9b5edac3ec4"
   },
   "source": [
    "### Summary:\n",
    "The mean transaction amout among fraud cases is 122 USD, and is 88 among non-fraud cases.  And the difference is statistically significant. "
   ]
  },
  {
   "cell_type": "markdown",
   "metadata": {
    "_uuid": "9ecfe202a827bb5e542f5aa4aea55901e56587bf"
   },
   "source": [
    "###  Transaction Amount Visualization\n",
    "Expect a lot of low-value transactions to be uninteresting (buying cups of coffee, lunches, etc).   \n",
    "Only visualizes the transactions between USD 200 and 2000. "
   ]
  },
  {
   "cell_type": "code",
   "execution_count": 7,
   "metadata": {
    "_uuid": "09803a735ba1574074fb27ac6ab39fb873bdf9b8"
   },
   "outputs": [
    {
     "name": "stderr",
     "output_type": "stream",
     "text": [
      "/opt/conda/lib/python3.6/site-packages/matplotlib/axes/_axes.py:6462: UserWarning: The 'normed' kwarg is deprecated, and has been replaced by the 'density' kwarg.\n",
      "  warnings.warn(\"The 'normed' kwarg is deprecated, and has been \"\n",
      "/opt/conda/lib/python3.6/site-packages/matplotlib/axes/_axes.py:6462: UserWarning: The 'normed' kwarg is deprecated, and has been replaced by the 'density' kwarg.\n",
      "  warnings.warn(\"The 'normed' kwarg is deprecated, and has been \"\n"
     ]
    },
    {
     "data": {
      "image/png": "[encoded data removed]",
      "text/plain": [
       "<Figure size 432x288 with 1 Axes>"
      ]
     },
     "metadata": {},
     "output_type": "display_data"
    }
   ],
   "source": [
    "# Plot of high value transactions($200-$2000)\n",
    "bins = np.linspace(200, 2000, 100)\n",
    "plt.hist(df_nonfraud.Amount, bins, alpha=1, normed=True, label='Non-Fraud')\n",
    "plt.hist(df_fraud.Amount, bins, alpha=1, normed=True, label='Fraud')\n",
    "plt.legend(loc='upper right')\n",
    "plt.title(\"Amount by percentage of transactions (transactions \\$200-$2000)\")\n",
    "plt.xlabel(\"Transaction amount (USD)\")\n",
    "plt.ylabel(\"Percentage of transactions (%)\")\n",
    "plt.show()"
   ]
  },
  {
   "cell_type": "markdown",
   "metadata": {
    "_uuid": "edff718bef7b3cff8e8732a48ea71a54cf6c621c"
   },
   "source": [
    "### Summary:\n",
    "* In the long tail, fraud transaction happened more frequently. \n",
    "* It seems \n",
    "It would be hard to differentiate fraud from normal transactions by transaction amount alone."
   ]
  },
  {
   "cell_type": "markdown",
   "metadata": {
    "_uuid": "d76dd18f50c9fba6a85057056ee2d290b3f3f0b9"
   },
   "source": [
    "###  Transaction Hour\n",
    "Let's look at the transaction percentage from day 0 to the next day.  "
   ]
  },
  {
   "cell_type": "code",
   "execution_count": 8,
   "metadata": {
    "_uuid": "f246a6fe7d1a9bc9574e32a2247336eeb3d33c06"
   },
   "outputs": [
    {
     "name": "stderr",
     "output_type": "stream",
     "text": [
      "/opt/conda/lib/python3.6/site-packages/matplotlib/axes/_axes.py:6462: UserWarning: The 'normed' kwarg is deprecated, and has been replaced by the 'density' kwarg.\n",
      "  warnings.warn(\"The 'normed' kwarg is deprecated, and has been \"\n",
      "/opt/conda/lib/python3.6/site-packages/matplotlib/axes/_axes.py:6462: UserWarning: The 'normed' kwarg is deprecated, and has been replaced by the 'density' kwarg.\n",
      "  warnings.warn(\"The 'normed' kwarg is deprecated, and has been \"\n"
     ]
    },
    {
     "data": {
      "image/png": "[encoded data removed]",
      "text/plain": [
       "<Figure size 432x288 with 1 Axes>"
      ]
     },
     "metadata": {},
     "output_type": "display_data"
    }
   ],
   "source": [
    "# Plot of transactions in 48 hours\n",
    "bins = np.linspace(0, 48, 48) #48 hours\n",
    "plt.hist((df_nonfraud.Time/(60*60)), bins, alpha=1, normed=True, label='Non-Fraud')\n",
    "plt.hist((df_fraud.Time/(60*60)), bins, alpha=0.6, normed=True, label='Fraud')\n",
    "plt.legend(loc='upper right')\n",
    "plt.title(\"Percentage of transactions by hour\")\n",
    "plt.xlabel(\"Transaction time from first transaction in the dataset (hours)\")\n",
    "plt.ylabel(\"Percentage of transactions (%)\")\n",
    "plt.show()"
   ]
  },
  {
   "cell_type": "markdown",
   "metadata": {
    "_uuid": "4c5fa152a1c97312a81fa222830419ec068ef509"
   },
   "source": [
    "Hour \"zero\" corresponds to the hour the first transaction happened and not necessarily 12-1am.   \n",
    "Given the heavy decrease in normal transactions from hours 1 to 8 and again roughly at hours 24 to 32, it seems fraud tends to occur at higher rates during the night.   \n",
    "Statistical tests could be used to give evidence for this fact."
   ]
  },
  {
   "cell_type": "markdown",
   "metadata": {
    "_uuid": "59857a4e0a7eed0693b2564a6a8e96628fa064b8"
   },
   "source": [
    "###  Transaction Amount vs. Hour"
   ]
  },
  {
   "cell_type": "code",
   "execution_count": 9,
   "metadata": {
    "_uuid": "5c265be262e443a1564fb3e863f0b7279f7cec27"
   },
   "outputs": [
    {
     "data": {
      "image/png": "[encoded data removed]",
      "text/plain": [
       "<Figure size 432x288 with 1 Axes>"
      ]
     },
     "metadata": {},
     "output_type": "display_data"
    }
   ],
   "source": [
    "# Plot of transactions in 48 hours\n",
    "plt.scatter((df_nonfraud.Time/(60*60)), df_nonfraud.Amount, alpha=0.6, label='Non-Fraud')\n",
    "plt.scatter((df_fraud.Time/(60*60)), df_fraud.Amount, alpha=0.9, label='Fraud')\n",
    "plt.title(\"Amount of transaction by hour\")\n",
    "plt.xlabel(\"Transaction time as measured from first transaction in the dataset (hours)\")\n",
    "plt.ylabel('Amount (USD)')\n",
    "plt.legend(loc='upper right')\n",
    "plt.show()"
   ]
  },
  {
   "cell_type": "markdown",
   "metadata": {
    "_uuid": "fca1b75051f890c07eacea400857073f3d6942b3"
   },
   "source": [
    "It is not enough to make a good classifier.   \n",
    "For example, it would be hard to draw a line that cleanly separates fraud and non-fraud transactions.   "
   ]
  },
  {
   "cell_type": "markdown",
   "metadata": {
    "_uuid": "cdb8ed64468379d31d9b1d12d15aff74d7863e46"
   },
   "source": [
    "## Feature Scaling\n",
    "As we know before, features V1-V28 have been transformed by PCA and scaled already.  Whereas feature \"Time\" and \"Amount\" have not. And considering that we will analyze these two features with other V1-V28, they should better be scaled before we train our model using various algorithms.\n",
    "Here is [why and how](https://medium.com/@ian.dzindo01/feature-scaling-in-python-a59cc72147c1).  \n",
    "Which scaling mehtod should we use?  \n",
    "The **Standard Scaler** is not recommended as \"Time\" and \"Amount\" features are not normally distributed.   \n",
    "The **Min-Max Scaler** is also not recommende as there are noticeable outliers in feature \"Amount\".  \n",
    "The **Robust Scaler** are robust to outliers: **(xi–Q1(x))/( Q3(x)–Q1(x))** (Q1 and Q3 represent 25% and 75% quartiles).   \n",
    "So we choose **Robust Scaler** to scale these two features. "
   ]
  },
  {
   "cell_type": "code",
   "execution_count": 10,
   "metadata": {
    "_uuid": "1d5b48598913ae14ad3a0ab45407217316f16b2e"
   },
   "outputs": [
    {
     "data": {
      "text/html": [
       "<div>\n",
       "<style scoped>\n",
       "    .dataframe tbody tr th:only-of-type {\n",
       "        vertical-align: middle;\n",
       "    }\n",
       "\n",
       "    .dataframe tbody tr th {\n",
       "        vertical-align: top;\n",
       "    }\n",
       "\n",
       "    .dataframe thead th {\n",
       "        text-align: right;\n",
       "    }\n",
       "</style>\n",
       "<table border=\"1\" class=\"dataframe\">\n",
       "  <thead>\n",
       "    <tr style=\"text-align: right;\">\n",
       "      <th></th>\n",
       "      <th>V1</th>\n",
       "      <th>V2</th>\n",
       "      <th>V3</th>\n",
       "      <th>V4</th>\n",
       "      <th>V5</th>\n",
       "      <th>V6</th>\n",
       "      <th>V7</th>\n",
       "      <th>V8</th>\n",
       "      <th>V9</th>\n",
       "      <th>V10</th>\n",
       "      <th>V11</th>\n",
       "      <th>V12</th>\n",
       "      <th>V13</th>\n",
       "      <th>V14</th>\n",
       "      <th>V15</th>\n",
       "      <th>V16</th>\n",
       "      <th>V17</th>\n",
       "      <th>V18</th>\n",
       "      <th>V19</th>\n",
       "      <th>V20</th>\n",
       "      <th>V21</th>\n",
       "      <th>V22</th>\n",
       "      <th>V23</th>\n",
       "      <th>V24</th>\n",
       "      <th>V25</th>\n",
       "      <th>V26</th>\n",
       "      <th>V27</th>\n",
       "      <th>V28</th>\n",
       "      <th>Class</th>\n",
       "      <th>scaled_amount</th>\n",
       "      <th>scaled_time</th>\n",
       "    </tr>\n",
       "  </thead>\n",
       "  <tbody>\n",
       "    <tr>\n",
       "      <th>0</th>\n",
       "      <td>-1.359807</td>\n",
       "      <td>-0.072781</td>\n",
       "      <td>2.536347</td>\n",
       "      <td>1.378155</td>\n",
       "      <td>-0.338321</td>\n",
       "      <td>0.462388</td>\n",
       "      <td>0.239599</td>\n",
       "      <td>0.098698</td>\n",
       "      <td>0.363787</td>\n",
       "      <td>0.090794</td>\n",
       "      <td>-0.551600</td>\n",
       "      <td>-0.617801</td>\n",
       "      <td>-0.991390</td>\n",
       "      <td>-0.311169</td>\n",
       "      <td>1.468177</td>\n",
       "      <td>-0.470401</td>\n",
       "      <td>0.207971</td>\n",
       "      <td>0.025791</td>\n",
       "      <td>0.403993</td>\n",
       "      <td>0.251412</td>\n",
       "      <td>-0.018307</td>\n",
       "      <td>0.277838</td>\n",
       "      <td>-0.110474</td>\n",
       "      <td>0.066928</td>\n",
       "      <td>0.128539</td>\n",
       "      <td>-0.189115</td>\n",
       "      <td>0.133558</td>\n",
       "      <td>-0.021053</td>\n",
       "      <td>0</td>\n",
       "      <td>1.783274</td>\n",
       "      <td>-0.994983</td>\n",
       "    </tr>\n",
       "    <tr>\n",
       "      <th>1</th>\n",
       "      <td>1.191857</td>\n",
       "      <td>0.266151</td>\n",
       "      <td>0.166480</td>\n",
       "      <td>0.448154</td>\n",
       "      <td>0.060018</td>\n",
       "      <td>-0.082361</td>\n",
       "      <td>-0.078803</td>\n",
       "      <td>0.085102</td>\n",
       "      <td>-0.255425</td>\n",
       "      <td>-0.166974</td>\n",
       "      <td>1.612727</td>\n",
       "      <td>1.065235</td>\n",
       "      <td>0.489095</td>\n",
       "      <td>-0.143772</td>\n",
       "      <td>0.635558</td>\n",
       "      <td>0.463917</td>\n",
       "      <td>-0.114805</td>\n",
       "      <td>-0.183361</td>\n",
       "      <td>-0.145783</td>\n",
       "      <td>-0.069083</td>\n",
       "      <td>-0.225775</td>\n",
       "      <td>-0.638672</td>\n",
       "      <td>0.101288</td>\n",
       "      <td>-0.339846</td>\n",
       "      <td>0.167170</td>\n",
       "      <td>0.125895</td>\n",
       "      <td>-0.008983</td>\n",
       "      <td>0.014724</td>\n",
       "      <td>0</td>\n",
       "      <td>-0.269825</td>\n",
       "      <td>-0.994983</td>\n",
       "    </tr>\n",
       "    <tr>\n",
       "      <th>2</th>\n",
       "      <td>-1.358354</td>\n",
       "      <td>-1.340163</td>\n",
       "      <td>1.773209</td>\n",
       "      <td>0.379780</td>\n",
       "      <td>-0.503198</td>\n",
       "      <td>1.800499</td>\n",
       "      <td>0.791461</td>\n",
       "      <td>0.247676</td>\n",
       "      <td>-1.514654</td>\n",
       "      <td>0.207643</td>\n",
       "      <td>0.624501</td>\n",
       "      <td>0.066084</td>\n",
       "      <td>0.717293</td>\n",
       "      <td>-0.165946</td>\n",
       "      <td>2.345865</td>\n",
       "      <td>-2.890083</td>\n",
       "      <td>1.109969</td>\n",
       "      <td>-0.121359</td>\n",
       "      <td>-2.261857</td>\n",
       "      <td>0.524980</td>\n",
       "      <td>0.247998</td>\n",
       "      <td>0.771679</td>\n",
       "      <td>0.909412</td>\n",
       "      <td>-0.689281</td>\n",
       "      <td>-0.327642</td>\n",
       "      <td>-0.139097</td>\n",
       "      <td>-0.055353</td>\n",
       "      <td>-0.059752</td>\n",
       "      <td>0</td>\n",
       "      <td>4.983721</td>\n",
       "      <td>-0.994972</td>\n",
       "    </tr>\n",
       "    <tr>\n",
       "      <th>3</th>\n",
       "      <td>-0.966272</td>\n",
       "      <td>-0.185226</td>\n",
       "      <td>1.792993</td>\n",
       "      <td>-0.863291</td>\n",
       "      <td>-0.010309</td>\n",
       "      <td>1.247203</td>\n",
       "      <td>0.237609</td>\n",
       "      <td>0.377436</td>\n",
       "      <td>-1.387024</td>\n",
       "      <td>-0.054952</td>\n",
       "      <td>-0.226487</td>\n",
       "      <td>0.178228</td>\n",
       "      <td>0.507757</td>\n",
       "      <td>-0.287924</td>\n",
       "      <td>-0.631418</td>\n",
       "      <td>-1.059647</td>\n",
       "      <td>-0.684093</td>\n",
       "      <td>1.965775</td>\n",
       "      <td>-1.232622</td>\n",
       "      <td>-0.208038</td>\n",
       "      <td>-0.108300</td>\n",
       "      <td>0.005274</td>\n",
       "      <td>-0.190321</td>\n",
       "      <td>-1.175575</td>\n",
       "      <td>0.647376</td>\n",
       "      <td>-0.221929</td>\n",
       "      <td>0.062723</td>\n",
       "      <td>0.061458</td>\n",
       "      <td>0</td>\n",
       "      <td>1.418291</td>\n",
       "      <td>-0.994972</td>\n",
       "    </tr>\n",
       "    <tr>\n",
       "      <th>4</th>\n",
       "      <td>-1.158233</td>\n",
       "      <td>0.877737</td>\n",
       "      <td>1.548718</td>\n",
       "      <td>0.403034</td>\n",
       "      <td>-0.407193</td>\n",
       "      <td>0.095921</td>\n",
       "      <td>0.592941</td>\n",
       "      <td>-0.270533</td>\n",
       "      <td>0.817739</td>\n",
       "      <td>0.753074</td>\n",
       "      <td>-0.822843</td>\n",
       "      <td>0.538196</td>\n",
       "      <td>1.345852</td>\n",
       "      <td>-1.119670</td>\n",
       "      <td>0.175121</td>\n",
       "      <td>-0.451449</td>\n",
       "      <td>-0.237033</td>\n",
       "      <td>-0.038195</td>\n",
       "      <td>0.803487</td>\n",
       "      <td>0.408542</td>\n",
       "      <td>-0.009431</td>\n",
       "      <td>0.798278</td>\n",
       "      <td>-0.137458</td>\n",
       "      <td>0.141267</td>\n",
       "      <td>-0.206010</td>\n",
       "      <td>0.502292</td>\n",
       "      <td>0.219422</td>\n",
       "      <td>0.215153</td>\n",
       "      <td>0</td>\n",
       "      <td>0.670579</td>\n",
       "      <td>-0.994960</td>\n",
       "    </tr>\n",
       "  </tbody>\n",
       "</table>\n",
       "</div>"
      ],
      "text/plain": [
       "         V1        V2        V3     ...       Class  scaled_amount  scaled_time\n",
       "0 -1.359807 -0.072781  2.536347     ...           0       1.783274    -0.994983\n",
       "1  1.191857  0.266151  0.166480     ...           0      -0.269825    -0.994983\n",
       "2 -1.358354 -1.340163  1.773209     ...           0       4.983721    -0.994972\n",
       "3 -0.966272 -0.185226  1.792993     ...           0       1.418291    -0.994972\n",
       "4 -1.158233  0.877737  1.548718     ...           0       0.670579    -0.994960\n",
       "\n",
       "[5 rows x 31 columns]"
      ]
     },
     "execution_count": 10,
     "metadata": {},
     "output_type": "execute_result"
    }
   ],
   "source": [
    "# Scale \"Time\" and \"Amount\"\n",
    "from sklearn.preprocessing import StandardScaler, RobustScaler\n",
    "df['scaled_amount'] = RobustScaler().fit_transform(df['Amount'].values.reshape(-1,1))\n",
    "df['scaled_time'] = RobustScaler().fit_transform(df['Time'].values.reshape(-1,1))\n",
    "\n",
    "# Make a new dataset named \"df_scaled\" dropping out original \"Time\" and \"Amount\"\n",
    "df_scaled = df.drop(['Time','Amount'],axis = 1,inplace=False)\n",
    "df_scaled.head()"
   ]
  },
  {
   "cell_type": "markdown",
   "metadata": {
    "_uuid": "3892660f9086d1e4578ebeb1166c6ae5cb2c3eb3"
   },
   "source": [
    "## Correlation Matrices\n",
    "Correlation matrices are the essence of understanding our data. We want to know if there are features that influence heavily in whether a specific transaction is a fraud. "
   ]
  },
  {
   "cell_type": "code",
   "execution_count": 11,
   "metadata": {
    "_uuid": "281bf880f08f18a6d1e51cd6566cb4b629bd32a4"
   },
   "outputs": [
    {
     "data": {
      "text/plain": [
       "Text(0.5,1,\"Imbalanced Correlation Matrix \\n (don't use for reference)\")"
      ]
     },
     "execution_count": 11,
     "metadata": {},
     "output_type": "execute_result"
    },
    {
     "data": {
      "image/png": "[encoded data removed]",
      "text/plain": [
       "<Figure size 1728x1440 with 2 Axes>"
      ]
     },
     "metadata": {},
     "output_type": "display_data"
    }
   ],
   "source": [
    "# Calculate pearson correlation coefficience\n",
    "corr = df_scaled.corr() \n",
    "\n",
    "# Plot heatmap of correlation\n",
    "f, ax = plt.subplots(1, 1, figsize=(24,20))\n",
    "sns.heatmap(corr, cmap='coolwarm_r', annot_kws={'size':20})\n",
    "ax.set_title(\"Imbalanced Correlation Matrix \\n (don't use for reference)\", fontsize=24)"
   ]
  },
  {
   "cell_type": "markdown",
   "metadata": {
    "_uuid": "518974bb3216bb3884445abd670ea3c382cc9840"
   },
   "source": [
    "# Module 2: Resampling for Imbalanced Data \n",
    "There are two types of resampling methods to deal with imbalanced data, one is **under sampling** and another one is **over sampling**. \n",
    "* Under sampling: you take ramdom draws from non-fraud observations to match the amount of fraud observations.  But you're randomly throwing away a lot of data and infromation. aka: Random Under Sampling\n",
    "* Over sampling: you take ramdom draws from frad cases and copy these observations to increase to amount of fraud samples in your data. But you are traning your model many many duplicates. aka: Random Over Sampling & SMOTE\n",
    "* Synthetic Minority Oversampling Technique(SMOTE): Adjust the data imbalance by oversampling the monority observations(fraud cases) using nearest neighbors of fraud cases to create new synthetic fraud cases instead of just coping the monority samples. \n",
    "* There is a common mistake when doing resampling, that is testing your model on the oversampled or undersampled dataset. If we want to implement cross validation, remember to split your data into training and testing before oversample or undersample and then just oversample or undersample the training part.   \n",
    "Another way to avoid this is to use **\"Pipeline\"** method. "
   ]
  },
  {
   "cell_type": "markdown",
   "metadata": {
    "_uuid": "50d016d39267cb7c6232ff61efdb02c1093af046"
   },
   "source": [
    "## Extract features from our scaled dataset \"df_scaled\""
   ]
  },
  {
   "cell_type": "code",
   "execution_count": 12,
   "metadata": {
    "_uuid": "a8bd50a7556decc499393a53c470c1a31154bcd8"
   },
   "outputs": [],
   "source": [
    "# Define the prep_data function to extrac features \n",
    "def prep_data(df):\n",
    "    X = df.drop(['Class'],axis=1, inplace=False) #  \n",
    "    X = np.array(X).astype(np.float)\n",
    "    y = df[['Class']]  \n",
    "    y = np.array(y).astype(np.float)\n",
    "    return X,y\n",
    "\n",
    "# Create X and y from the prep_data function \n",
    "X, y = prep_data(df_scaled)"
   ]
  },
  {
   "cell_type": "markdown",
   "metadata": {
    "_uuid": "e99a9453cc41be66289eaa0f3249cbb7baebe39e"
   },
   "source": [
    "## Resample data with RUS, ROS and SMOTE"
   ]
  },
  {
   "cell_type": "code",
   "execution_count": 13,
   "metadata": {
    "_uuid": "1f420ef7eef0655e61378e2266e0279135f6b1ed"
   },
   "outputs": [
    {
     "name": "stderr",
     "output_type": "stream",
     "text": [
      "Using TensorFlow backend.\n",
      "/opt/conda/lib/python3.6/site-packages/sklearn/utils/validation.py:761: DataConversionWarning: A column-vector y was passed when a 1d array was expected. Please change the shape of y to (n_samples, ), for example using ravel().\n",
      "  y = column_or_1d(y, warn=True)\n",
      "/opt/conda/lib/python3.6/site-packages/sklearn/utils/validation.py:761: DataConversionWarning: A column-vector y was passed when a 1d array was expected. Please change the shape of y to (n_samples, ), for example using ravel().\n",
      "  y = column_or_1d(y, warn=True)\n",
      "/opt/conda/lib/python3.6/site-packages/sklearn/utils/validation.py:761: DataConversionWarning: A column-vector y was passed when a 1d array was expected. Please change the shape of y to (n_samples, ), for example using ravel().\n",
      "  y = column_or_1d(y, warn=True)\n"
     ]
    }
   ],
   "source": [
    "from sklearn.model_selection import train_test_split\n",
    "from imblearn.under_sampling import RandomUnderSampler\n",
    "from imblearn.over_sampling import RandomOverSampler\n",
    "from imblearn.over_sampling import SMOTE\n",
    "from imblearn.over_sampling import BorderlineSMOTE\n",
    "from imblearn.pipeline import Pipeline # Inorder to avoid testing model on sampled data\n",
    "\n",
    "# Create the training and testing sets\n",
    "X_train, X_test, y_train, y_test = train_test_split(X, y, test_size=.3, random_state=0)\n",
    "\n",
    "# Define the resampling method\n",
    "undersam = RandomUnderSampler(random_state=0)\n",
    "oversam = RandomOverSampler(random_state=0)\n",
    "smote = SMOTE(kind='regular',random_state=0)\n",
    "borderlinesmote = BorderlineSMOTE(kind='borderline-2',random_state=0)\n",
    "\n",
    "# resample the training data\n",
    "X_undersam, y_undersam = undersam.fit_sample(X_train,y_train)\n",
    "X_oversam, y_oversam = oversam.fit_sample(X_train,y_train)\n",
    "X_smote, y_smote = smote.fit_sample(X_train,y_train)\n",
    "X_borderlinesmote, y_borderlinesmote = borderlinesmote.fit_sample(X_train,y_train)"
   ]
  },
  {
   "cell_type": "markdown",
   "metadata": {
    "_uuid": "be03c4a63ae1c07ab78a618ac4f9a0271d89d182"
   },
   "source": [
    "# Module 3: Logistic Regression"
   ]
  },
  {
   "cell_type": "code",
   "execution_count": 14,
   "metadata": {
    "_uuid": "5b6ef46f0627d543a8ae07eb8623a09464c36c52"
   },
   "outputs": [
    {
     "name": "stderr",
     "output_type": "stream",
     "text": [
      "/opt/conda/lib/python3.6/site-packages/sklearn/linear_model/logistic.py:433: FutureWarning: Default solver will be changed to 'lbfgs' in 0.22. Specify a solver to silence this warning.\n",
      "  FutureWarning)\n",
      "/opt/conda/lib/python3.6/site-packages/sklearn/utils/validation.py:761: DataConversionWarning: A column-vector y was passed when a 1d array was expected. Please change the shape of y to (n_samples, ), for example using ravel().\n",
      "  y = column_or_1d(y, warn=True)\n"
     ]
    }
   ],
   "source": [
    "from sklearn.model_selection import train_test_split\n",
    "from sklearn.linear_model import LogisticRegression\n",
    "\n",
    "# Create the training and testing sets\n",
    "X_train, X_test, y_train, y_test = train_test_split(X, y, test_size=.3, random_state=0)\n",
    "\n",
    "# Fit a logistic regression model to our data\n",
    "model = LogisticRegression()\n",
    "model.fit(X_train, y_train)\n",
    "\n",
    "# Obtain model predictions\n",
    "y_predicted = model.predict(X_test)"
   ]
  },
  {
   "cell_type": "markdown",
   "metadata": {
    "_uuid": "a12d28ce20389c126a214a1b6a47aa34379418dc"
   },
   "source": [
    "## Model Evaluation"
   ]
  },
  {
   "cell_type": "code",
   "execution_count": 15,
   "metadata": {
    "_uuid": "54e9365e1a28810b7f262f52d876f254f8f410ad"
   },
   "outputs": [
    {
     "name": "stdout",
     "output_type": "stream",
     "text": [
      "ROC AUC Score: 0.9697298212100447\n",
      "Classification report:\n",
      "               precision    recall  f1-score   support\n",
      "\n",
      "         0.0       1.00      1.00      1.00     85296\n",
      "         1.0       0.88      0.62      0.73       147\n",
      "\n",
      "   micro avg       1.00      1.00      1.00     85443\n",
      "   macro avg       0.94      0.81      0.86     85443\n",
      "weighted avg       1.00      1.00      1.00     85443\n",
      "\n",
      "Confusion matrix:\n",
      " [[85284    12]\n",
      " [   56    91]]\n"
     ]
    },
    {
     "data": {
      "image/png": "[encoded data removed]",
      "text/plain": [
       "<Figure size 432x288 with 1 Axes>"
      ]
     },
     "metadata": {},
     "output_type": "display_data"
    },
    {
     "data": {
      "image/png": "[encoded data removed]",
      "text/plain": [
       "<Figure size 432x288 with 1 Axes>"
      ]
     },
     "metadata": {},
     "output_type": "display_data"
    }
   ],
   "source": [
    "from sklearn.metrics import roc_curve,roc_auc_score, precision_recall_curve, average_precision_score\n",
    "from sklearn.metrics import classification_report\n",
    "from sklearn.metrics import confusion_matrix\n",
    "\n",
    "# Create true and false positive rates\n",
    "false_positive_rate, true_positive_rate, threshold = roc_curve(y_test, y_predicted)\n",
    "\n",
    "# Calculate Area Under the Receiver Operating Characteristic Curve \n",
    "probs = model.predict_proba(X_test)\n",
    "roc_auc = roc_auc_score(y_test, probs[:, 1])\n",
    "print('ROC AUC Score:',roc_auc)\n",
    "\n",
    "# Obtain precision and recall \n",
    "precision, recall, thresholds = precision_recall_curve(y_test, y_predicted)\n",
    "\n",
    "# Calculate average precision \n",
    "average_precision = average_precision_score(y_test, y_predicted)\n",
    "\n",
    "# Define a roc_curve function\n",
    "def plot_roc_curve(false_positive_rate,true_positive_rate,roc_auc):\n",
    "    plt.plot(false_positive_rate, true_positive_rate, linewidth=5, label='AUC = %0.3f'% roc_auc)\n",
    "    plt.plot([0,1],[0,1], linewidth=5)\n",
    "    plt.xlim([-0.01, 1])\n",
    "    plt.ylim([0, 1.01])\n",
    "    plt.legend(loc='upper right')\n",
    "    plt.title('Receiver operating characteristic curve (ROC)')\n",
    "    plt.ylabel('True Positive Rate')\n",
    "    plt.xlabel('False Positive Rate')\n",
    "    plt.show()\n",
    "\n",
    "# Define a precision_recall_curve function\n",
    "def plot_pr_curve(recall, precision, average_precision):\n",
    "    plt.step(recall, precision, color='b', alpha=0.2, where='post')\n",
    "    plt.fill_between(recall, precision, step='post', alpha=0.2, color='b')\n",
    "    plt.xlabel('Recall')\n",
    "    plt.ylabel('Precision')\n",
    "    plt.ylim([0.0, 1.05])\n",
    "    plt.xlim([0.0, 1.0])\n",
    "    plt.title('2-class Precision-Recall curve: AP={0:0.2f}'.format(average_precision))\n",
    "    plt.show()\n",
    "\n",
    "# Print the classifcation report and confusion matrix\n",
    "print('Classification report:\\n', classification_report(y_test, y_predicted))\n",
    "print('Confusion matrix:\\n',confusion_matrix(y_true = y_test, y_pred = y_predicted))\n",
    "\n",
    "# Plot the roc curve \n",
    "plot_roc_curve(false_positive_rate,true_positive_rate,roc_auc)\n",
    "\n",
    "# Plot recall precision curve\n",
    "plot_pr_curve(recall, precision, average_precision)\n"
   ]
  },
  {
   "cell_type": "markdown",
   "metadata": {
    "_uuid": "c29d39e9ffac53eb79e93badbba21f61dff3f959"
   },
   "source": [
    "Accuracy score= 99.92% which is higher than the baseline 99.83%.  \n",
    "Precision = 91/(12+91) = 0.88.  The rate of true positive in all positive cases.  \n",
    "Recall =  91/ (56+91) = 0.62.  The rate of true positive in all true cases.  \n",
    "F1-score = 0.73  \n",
    "False positives cases =   12.  "
   ]
  },
  {
   "cell_type": "markdown",
   "metadata": {
    "_uuid": "ce1ec54ef7db817e13d56b0afa26da03f1bcdfed"
   },
   "source": [
    "## Logistic Regression with Resampled Data"
   ]
  },
  {
   "cell_type": "code",
   "execution_count": 16,
   "metadata": {
    "_uuid": "a61488b5016358da84100ed70a45d14a50a980ef"
   },
   "outputs": [
    {
     "name": "stderr",
     "output_type": "stream",
     "text": [
      "/opt/conda/lib/python3.6/site-packages/sklearn/utils/validation.py:761: DataConversionWarning: A column-vector y was passed when a 1d array was expected. Please change the shape of y to (n_samples, ), for example using ravel().\n",
      "  y = column_or_1d(y, warn=True)\n",
      "/opt/conda/lib/python3.6/site-packages/sklearn/utils/validation.py:761: DataConversionWarning: A column-vector y was passed when a 1d array was expected. Please change the shape of y to (n_samples, ), for example using ravel().\n",
      "  y = column_or_1d(y, warn=True)\n",
      "/opt/conda/lib/python3.6/site-packages/sklearn/utils/validation.py:761: DataConversionWarning: A column-vector y was passed when a 1d array was expected. Please change the shape of y to (n_samples, ), for example using ravel().\n",
      "  y = column_or_1d(y, warn=True)\n",
      "/opt/conda/lib/python3.6/site-packages/sklearn/linear_model/logistic.py:433: FutureWarning: Default solver will be changed to 'lbfgs' in 0.22. Specify a solver to silence this warning.\n",
      "  FutureWarning)\n",
      "/opt/conda/lib/python3.6/site-packages/sklearn/utils/validation.py:761: DataConversionWarning: A column-vector y was passed when a 1d array was expected. Please change the shape of y to (n_samples, ), for example using ravel().\n",
      "  y = column_or_1d(y, warn=True)\n",
      "/opt/conda/lib/python3.6/site-packages/sklearn/linear_model/logistic.py:433: FutureWarning: Default solver will be changed to 'lbfgs' in 0.22. Specify a solver to silence this warning.\n",
      "  FutureWarning)\n",
      "/opt/conda/lib/python3.6/site-packages/sklearn/linear_model/logistic.py:433: FutureWarning: Default solver will be changed to 'lbfgs' in 0.22. Specify a solver to silence this warning.\n",
      "  FutureWarning)\n",
      "/opt/conda/lib/python3.6/site-packages/sklearn/linear_model/logistic.py:433: FutureWarning: Default solver will be changed to 'lbfgs' in 0.22. Specify a solver to silence this warning.\n",
      "  FutureWarning)\n"
     ]
    },
    {
     "name": "stdout",
     "output_type": "stream",
     "text": [
      "Classifcation report:\n",
      "               precision    recall  f1-score   support\n",
      "\n",
      "         0.0       1.00      0.97      0.98     85296\n",
      "         1.0       0.05      0.90      0.09       147\n",
      "\n",
      "   micro avg       0.97      0.97      0.97     85443\n",
      "   macro avg       0.52      0.94      0.54     85443\n",
      "weighted avg       1.00      0.97      0.98     85443\n",
      "\n",
      "Confusion matrix:\n",
      " [[82652  2644]\n",
      " [   14   133]]\n",
      "*************************\n",
      "Classifcation report:\n",
      "               precision    recall  f1-score   support\n",
      "\n",
      "         0.0       1.00      0.98      0.99     85296\n",
      "         1.0       0.07      0.92      0.12       147\n",
      "\n",
      "   micro avg       0.98      0.98      0.98     85443\n",
      "   macro avg       0.53      0.95      0.56     85443\n",
      "weighted avg       1.00      0.98      0.99     85443\n",
      "\n",
      "Confusion matrix:\n",
      " [[83358  1938]\n",
      " [   12   135]]\n",
      "*************************\n",
      "Classifcation report:\n",
      "               precision    recall  f1-score   support\n",
      "\n",
      "         0.0       1.00      0.98      0.99     85296\n",
      "         1.0       0.06      0.92      0.11       147\n",
      "\n",
      "   micro avg       0.98      0.98      0.98     85443\n",
      "   macro avg       0.53      0.95      0.55     85443\n",
      "weighted avg       1.00      0.98      0.99     85443\n",
      "\n",
      "Confusion matrix:\n",
      " [[83174  2122]\n",
      " [   12   135]]\n",
      "*************************\n",
      "Classifcation report:\n",
      "               precision    recall  f1-score   support\n",
      "\n",
      "         0.0       1.00      0.98      0.99     85296\n",
      "         1.0       0.08      0.88      0.14       147\n",
      "\n",
      "   micro avg       0.98      0.98      0.98     85443\n",
      "   macro avg       0.54      0.93      0.57     85443\n",
      "weighted avg       1.00      0.98      0.99     85443\n",
      "\n",
      "Confusion matrix:\n",
      " [[83775  1521]\n",
      " [   18   129]]\n",
      "*************************\n"
     ]
    }
   ],
   "source": [
    "from sklearn.model_selection import train_test_split\n",
    "from sklearn.linear_model import LogisticRegression\n",
    "from imblearn.under_sampling import RandomUnderSampler\n",
    "from imblearn.over_sampling import RandomOverSampler\n",
    "from imblearn.over_sampling import SMOTE\n",
    "from imblearn.over_sampling import BorderlineSMOTE\n",
    "\n",
    "# Create the training and testing sets\n",
    "X_train, X_test, y_train, y_test = train_test_split(X, y, test_size=.3, random_state=0)\n",
    "\n",
    "# Resample your training data\n",
    "rus = RandomUnderSampler()\n",
    "ros = RandomOverSampler()\n",
    "smote = SMOTE(kind='regular',random_state=5)\n",
    "blsmote = BorderlineSMOTE(kind='borderline-2',random_state=5)\n",
    "\n",
    "X_train_rus, y_train_rus = rus.fit_sample(X_train,y_train)\n",
    "X_train_ros, y_train_ros = ros.fit_sample(X_train,y_train)\n",
    "X_train_smote, y_train_smote = smote.fit_sample(X_train,y_train)\n",
    "X_train_blsmote, y_train_blsmote = blsmote.fit_sample(X_train,y_train)\n",
    "\n",
    "# Fit a logistic regression model to our data\n",
    "rus_model = LogisticRegression().fit(X_train_rus, y_train_rus)\n",
    "ros_model = LogisticRegression().fit(X_train_ros, y_train_ros)\n",
    "smote_model = LogisticRegression().fit(X_train_smote, y_train_smote)\n",
    "blsmote_model = LogisticRegression().fit(X_train_blsmote, y_train_blsmote)\n",
    "\n",
    "y_rus = rus_model.predict(X_test)\n",
    "y_ros = ros_model.predict(X_test)\n",
    "y_smote = smote_model.predict(X_test)\n",
    "y_blsmote = blsmote_model.predict(X_test)\n",
    "\n",
    "print('Classifcation report:\\n', classification_report(y_test, y_rus))\n",
    "print('Confusion matrix:\\n', confusion_matrix(y_true = y_test, y_pred = y_rus))\n",
    "print('*'*25)\n",
    "\n",
    "print('Classifcation report:\\n', classification_report(y_test, y_ros))\n",
    "print('Confusion matrix:\\n', confusion_matrix(y_true = y_test, y_pred = y_ros))\n",
    "print('*'*25)\n",
    "\n",
    "print('Classifcation report:\\n', classification_report(y_test, y_smote))\n",
    "print('Confusion matrix:\\n', confusion_matrix(y_true = y_test, y_pred = y_smote))\n",
    "print('*'*25)\n",
    "\n",
    "print('Classifcation report:\\n', classification_report(y_test, y_blsmote))\n",
    "print('Confusion matrix:\\n', confusion_matrix(y_true = y_test, y_pred = y_blsmote))\n",
    "print('*'*25)\n"
   ]
  },
  {
   "cell_type": "markdown",
   "metadata": {
    "_uuid": "b09d635b609421d003f6b696d27096900006ae86"
   },
   "source": [
    "## Logistic Regression with sampled Data using Pipeline"
   ]
  },
  {
   "cell_type": "code",
   "execution_count": 17,
   "metadata": {
    "_uuid": "5fe853c5a3ed8ce96867d746654853fb96e70efa"
   },
   "outputs": [
    {
     "name": "stderr",
     "output_type": "stream",
     "text": [
      "/opt/conda/lib/python3.6/site-packages/sklearn/utils/validation.py:761: DataConversionWarning: A column-vector y was passed when a 1d array was expected. Please change the shape of y to (n_samples, ), for example using ravel().\n",
      "  y = column_or_1d(y, warn=True)\n",
      "/opt/conda/lib/python3.6/site-packages/sklearn/linear_model/logistic.py:433: FutureWarning: Default solver will be changed to 'lbfgs' in 0.22. Specify a solver to silence this warning.\n",
      "  FutureWarning)\n"
     ]
    },
    {
     "name": "stdout",
     "output_type": "stream",
     "text": [
      "Classifcation report:\n",
      "               precision    recall  f1-score   support\n",
      "\n",
      "         0.0       1.00      0.98      0.99     85296\n",
      "         1.0       0.08      0.88      0.15       147\n",
      "\n",
      "   micro avg       0.98      0.98      0.98     85443\n",
      "   macro avg       0.54      0.93      0.57     85443\n",
      "weighted avg       1.00      0.98      0.99     85443\n",
      "\n",
      "Confusion matrix:\n",
      " [[83796  1500]\n",
      " [   18   129]]\n"
     ]
    }
   ],
   "source": [
    "# Import the pipeline module we need for this from imblearn\n",
    "from imblearn.pipeline import Pipeline \n",
    "\n",
    "# Create the training and testing sets\n",
    "X_train, X_test, y_train, y_test = train_test_split(X, y, test_size=.3, random_state=0)\n",
    "\n",
    "# Define which resampling method and which ML model to use in the pipeline\n",
    "resampling = BorderlineSMOTE(kind='borderline-2',random_state=0) # instead SMOTE(kind='borderline2') \n",
    "model = LogisticRegression() \n",
    "\n",
    "# Define the pipeline, tell it to combine SMOTE with the Logistic Regression model\n",
    "pipeline = Pipeline([('SMOTE', resampling), ('Logistic Regression', model)])\n",
    "\n",
    "# Fit your pipeline onto your training set and obtain predictions by fitting the model onto the test data \n",
    "pipeline.fit(X_train, y_train) \n",
    "y_predicted = pipeline.predict(X_test)\n",
    "\n",
    "# Obtain the results from the classification report and confusion matrix \n",
    "print('Classifcation report:\\n', classification_report(y_test, y_predicted))\n",
    "print('Confusion matrix:\\n', confusion_matrix(y_true = y_test, y_pred = y_predicted))"
   ]
  },
  {
   "cell_type": "markdown",
   "metadata": {
    "_uuid": "e9efcdcfb5bb055229331c089d75afe75a6ca241"
   },
   "source": [
    "As you can see, with the BorderlineSMOTE resampling method, we can get the best f1-score 0.15 compared with other 3 reampling methods. \n",
    "Not in all cases does resampling necessarily lead to better results.  \n",
    "When the fraud cases are very spread and scattered over the data, using SMOTE can introduce a bit of bias.   \n",
    "Nearest neighbors aren't necessarily also fraud cases, so the synthetic samples might 'confuse' the model slightly."
   ]
  },
  {
   "cell_type": "markdown",
   "metadata": {
    "_uuid": "eaa44c4e6e5c77ac910f4466c1e7cae9a11fce95"
   },
   "source": [
    "# Module 4: Decision Tree Classifier"
   ]
  },
  {
   "cell_type": "code",
   "execution_count": 18,
   "metadata": {
    "_uuid": "df07287cf37b25c35883af5700cb5cd47c1f26bd"
   },
   "outputs": [
    {
     "data": {
      "image/png": "[encoded data removed]",
      "text/plain": [
       "<Figure size 432x288 with 1 Axes>"
      ]
     },
     "metadata": {},
     "output_type": "display_data"
    },
    {
     "name": "stdout",
     "output_type": "stream",
     "text": [
      "Classification report:\n",
      "               precision    recall  f1-score   support\n",
      "\n",
      "         0.0       1.00      1.00      1.00     85296\n",
      "         1.0       0.77      0.74      0.76       147\n",
      "\n",
      "   micro avg       1.00      1.00      1.00     85443\n",
      "   macro avg       0.89      0.87      0.88     85443\n",
      "weighted avg       1.00      1.00      1.00     85443\n",
      "\n",
      "Confusion matrix:\n",
      " [[85264    32]\n",
      " [   38   109]]\n"
     ]
    }
   ],
   "source": [
    "# Import the decision tree model from sklearn\n",
    "from sklearn.model_selection import train_test_split\n",
    "from sklearn.tree import DecisionTreeClassifier\n",
    "from sklearn.metrics import classification_report\n",
    "from sklearn.metrics import confusion_matrix\n",
    "\n",
    "# Create the training and testing sets\n",
    "X_train, X_test, y_train, y_test = train_test_split(X, y, test_size=.3, random_state=0)\n",
    "\n",
    "# Fit a logistic regression model to our data\n",
    "model = DecisionTreeClassifier()\n",
    "model.fit(X_train, y_train)\n",
    "\n",
    "# Obtain model predictions\n",
    "y_predicted = model.predict(X_test)\n",
    "\n",
    "# Calculate average precision \n",
    "average_precision = average_precision_score(y_test, y_predicted)\n",
    "\n",
    "# Obtain precision and recall \n",
    "precision, recall, _ = precision_recall_curve(y_test, y_predicted)\n",
    "\n",
    "# Plot the recall precision tradeoff\n",
    "plot_pr_curve(recall, precision, average_precision)\n",
    "\n",
    "# Print the classifcation report and confusion matrix\n",
    "print('Classification report:\\n', classification_report(y_test, y_predicted))\n",
    "print('Confusion matrix:\\n',confusion_matrix(y_true = y_test, y_pred = y_predicted))"
   ]
  },
  {
   "cell_type": "markdown",
   "metadata": {
    "_uuid": "68dc54c05dc2854e77d116fcad0e9e0d1b42e409"
   },
   "source": [
    "Precision = 113/(113+25) = 0.82. The rate of true positive in all positive cases.  \n",
    "Recall =  113/ (113+34) = 0.77. The rate of true positive in all true cases.  \n",
    "F1-score = 0.79 \n",
    "False positives cases = 31.  "
   ]
  },
  {
   "cell_type": "markdown",
   "metadata": {
    "_uuid": "ce3329180cec9030fed794f4bc6151c54772f70f"
   },
   "source": [
    "## Decision Tree Classifier with SMOTE Data"
   ]
  },
  {
   "cell_type": "code",
   "execution_count": 19,
   "metadata": {
    "_uuid": "8bce69f6a8f0ef446f126f1e7fca152eea46c2c4"
   },
   "outputs": [
    {
     "name": "stderr",
     "output_type": "stream",
     "text": [
      "/opt/conda/lib/python3.6/site-packages/sklearn/utils/validation.py:761: DataConversionWarning: A column-vector y was passed when a 1d array was expected. Please change the shape of y to (n_samples, ), for example using ravel().\n",
      "  y = column_or_1d(y, warn=True)\n"
     ]
    },
    {
     "name": "stdout",
     "output_type": "stream",
     "text": [
      "Classifcation report:\n",
      "               precision    recall  f1-score   support\n",
      "\n",
      "         0.0       1.00      1.00      1.00     85296\n",
      "         1.0       0.57      0.73      0.64       147\n",
      "\n",
      "   micro avg       1.00      1.00      1.00     85443\n",
      "   macro avg       0.78      0.86      0.82     85443\n",
      "weighted avg       1.00      1.00      1.00     85443\n",
      "\n",
      "Confusion matrix:\n",
      " [[85215    81]\n",
      " [   40   107]]\n"
     ]
    }
   ],
   "source": [
    "# Import the pipeline module we need for this from imblearn\n",
    "from imblearn.pipeline import Pipeline \n",
    "from imblearn.over_sampling import BorderlineSMOTE\n",
    "\n",
    "# Define which resampling method and which ML model to use in the pipeline\n",
    "resampling = BorderlineSMOTE(kind='borderline-2',random_state=0) # instead SMOTE(kind='borderline2') \n",
    "model = DecisionTreeClassifier() \n",
    "\n",
    "# Define the pipeline, tell it to combine SMOTE with the Logistic Regression model\n",
    "pipeline = Pipeline([('SMOTE', resampling), ('Decision Tree Classifier', model)])\n",
    "\n",
    "# Fit your pipeline onto your training set and obtain predictions by fitting the model onto the test data \n",
    "pipeline.fit(X_train, y_train) \n",
    "y_predicted = pipeline.predict(X_test)\n",
    "\n",
    "# Obtain the results from the classification report and confusion matrix \n",
    "print('Classifcation report:\\n', classification_report(y_test, y_predicted))\n",
    "print('Confusion matrix:\\n',  confusion_matrix(y_true = y_test, y_pred = y_predicted))"
   ]
  },
  {
   "cell_type": "markdown",
   "metadata": {
    "_uuid": "704406c478175ff6c2c4414f7df572ba175833e7"
   },
   "source": [
    "Precision =  0.63. The rate of true positive in all positive cases.  \n",
    "Recall =  0.71. The rate of true positive in all true cases.  \n",
    "F1-score = 0.66  \n",
    "False positives cases = 62.  "
   ]
  },
  {
   "cell_type": "markdown",
   "metadata": {
    "_uuid": "6639127d0e171d64fae4c65af368a07f1120b366"
   },
   "source": [
    "# Module 5: Random Forest Classifier"
   ]
  },
  {
   "cell_type": "code",
   "execution_count": 20,
   "metadata": {
    "_uuid": "d1f6a80b13fa5b930aa7abc39c18eb600ef587f3"
   },
   "outputs": [
    {
     "name": "stderr",
     "output_type": "stream",
     "text": [
      "/opt/conda/lib/python3.6/site-packages/sklearn/ensemble/forest.py:246: FutureWarning: The default value of n_estimators will change from 10 in version 0.20 to 100 in 0.22.\n",
      "  \"10 in version 0.20 to 100 in 0.22.\", FutureWarning)\n",
      "/opt/conda/lib/python3.6/site-packages/ipykernel_launcher.py:13: DataConversionWarning: A column-vector y was passed when a 1d array was expected. Please change the shape of y to (n_samples,), for example using ravel().\n",
      "  del sys.path[0]\n"
     ]
    },
    {
     "data": {
      "image/png": "[encoded data removed]",
      "text/plain": [
       "<Figure size 432x288 with 1 Axes>"
      ]
     },
     "metadata": {},
     "output_type": "display_data"
    },
    {
     "name": "stdout",
     "output_type": "stream",
     "text": [
      "0.9994850368081645\n",
      "AUC ROC score:  0.9214466198221927\n",
      "Classification report:\n",
      "               precision    recall  f1-score   support\n",
      "\n",
      "         0.0       1.00      1.00      1.00     85296\n",
      "         1.0       0.96      0.73      0.83       147\n",
      "\n",
      "   micro avg       1.00      1.00      1.00     85443\n",
      "   macro avg       0.98      0.87      0.92     85443\n",
      "weighted avg       1.00      1.00      1.00     85443\n",
      "\n",
      "Confusion matrix:\n",
      " [[85291     5]\n",
      " [   39   108]]\n"
     ]
    }
   ],
   "source": [
    "# Import the Random Forest Classifier model from sklearn\n",
    "from sklearn.model_selection import train_test_split\n",
    "from sklearn.ensemble import RandomForestClassifier\n",
    "from sklearn.metrics import accuracy_score,roc_auc_score\n",
    "from sklearn.metrics import classification_report\n",
    "from sklearn.metrics import confusion_matrix\n",
    "\n",
    "# Create the training and testing sets\n",
    "X_train, X_test, y_train, y_test = train_test_split(X, y, test_size=.3, random_state=0)\n",
    "\n",
    "# Fit a logistic regression model to our data\n",
    "model = RandomForestClassifier(random_state=5)\n",
    "model.fit(X_train, y_train)\n",
    "\n",
    "# Obtain model predictions\n",
    "y_predicted = model.predict(X_test)\n",
    "\n",
    "# Predict probabilities\n",
    "probs = model.predict_proba(X_test)\n",
    "\n",
    "# Calculate average precision \n",
    "average_precision = average_precision_score(y_test, y_predicted)\n",
    "\n",
    "# Obtain precision and recall \n",
    "precision, recall, _ = precision_recall_curve(y_test, y_predicted)\n",
    "\n",
    "# Plot the recall precision tradeoff\n",
    "plot_pr_curve(recall, precision, average_precision)\n",
    "\n",
    "# Print the classifcation report and confusion matrix\n",
    "print(accuracy_score(y_test, y_predicted))\n",
    "print(\"AUC ROC score: \", roc_auc_score(y_test, probs[:,1]))\n",
    "\n",
    "print('Classification report:\\n', classification_report(y_test, y_predicted))\n",
    "print('Confusion matrix:\\n',confusion_matrix(y_true = y_test, y_pred = y_predicted))"
   ]
  },
  {
   "cell_type": "markdown",
   "metadata": {
    "_uuid": "abc53854a8c5671336538b37d2bf0b6047439880"
   },
   "source": [
    "Accuracy score = \n",
    "Precision =  0.95. The rate of true positive in all positive cases.  \n",
    "Recall =  0.73. The rate of true positive in all true cases.  \n",
    "F1-score = 0.83\n",
    "False positives cases = 6, which is much better.   "
   ]
  },
  {
   "cell_type": "markdown",
   "metadata": {
    "_uuid": "9de202a7cfa43e7686d4b0ab3357fdb7ee55e344"
   },
   "source": [
    "## Random Forest Classifier with SMOTE Data Catch Fraud "
   ]
  },
  {
   "cell_type": "code",
   "execution_count": 21,
   "metadata": {
    "_uuid": "1cae681769e70cc7b2c37750b8c0c2167df194be"
   },
   "outputs": [
    {
     "name": "stderr",
     "output_type": "stream",
     "text": [
      "/opt/conda/lib/python3.6/site-packages/sklearn/utils/validation.py:761: DataConversionWarning: A column-vector y was passed when a 1d array was expected. Please change the shape of y to (n_samples, ), for example using ravel().\n",
      "  y = column_or_1d(y, warn=True)\n",
      "/opt/conda/lib/python3.6/site-packages/sklearn/ensemble/forest.py:246: FutureWarning: The default value of n_estimators will change from 10 in version 0.20 to 100 in 0.22.\n",
      "  \"10 in version 0.20 to 100 in 0.22.\", FutureWarning)\n"
     ]
    },
    {
     "name": "stdout",
     "output_type": "stream",
     "text": [
      "0.9994967405170698\n",
      "AUC ROC score:  0.9243695344391742\n",
      "Classifcation report:\n",
      "               precision    recall  f1-score   support\n",
      "\n",
      "         0.0       1.00      1.00      1.00     85296\n",
      "         1.0       0.91      0.78      0.84       147\n",
      "\n",
      "   micro avg       1.00      1.00      1.00     85443\n",
      "   macro avg       0.96      0.89      0.92     85443\n",
      "weighted avg       1.00      1.00      1.00     85443\n",
      "\n",
      "Confusion matrix:\n",
      " [[85285    11]\n",
      " [   32   115]]\n"
     ]
    }
   ],
   "source": [
    "# Import the pipeline module we need for this from imblearn\n",
    "from imblearn.pipeline import Pipeline \n",
    "from imblearn.over_sampling import BorderlineSMOTE\n",
    "\n",
    "# Define which resampling method and which ML model to use in the pipeline\n",
    "\n",
    "resampling = BorderlineSMOTE(kind='borderline-2',random_state=0) # instead SMOTE(kind='borderline2') \n",
    "model = RandomForestClassifier() \n",
    "\n",
    "# Define the pipeline, tell it to combine SMOTE with the Logistic Regression model\n",
    "pipeline = Pipeline([('SMOTE', resampling), ('Random Forest Classifier', model)])\n",
    "\n",
    "# Fit your pipeline onto your training set and obtain predictions by fitting the model onto the test data \n",
    "pipeline.fit(X_train, y_train) \n",
    "y_predicted = pipeline.predict(X_test)\n",
    "\n",
    "# Predict probabilities\n",
    "probs = model.predict_proba(X_test)\n",
    "\n",
    "print(accuracy_score(y_test, y_predicted))\n",
    "print(\"AUC ROC score: \", roc_auc_score(y_test, probs[:,1]))\n",
    "# Obtain the results from the classification report and confusion matrix \n",
    "\n",
    "print('Classifcation report:\\n', classification_report(y_test, y_predicted))\n",
    "print('Confusion matrix:\\n',  confusion_matrix(y_true = y_test, y_pred = y_predicted))"
   ]
  },
  {
   "cell_type": "markdown",
   "metadata": {
    "_uuid": "6b16514889873763f6aa337da73a38271da264f1"
   },
   "source": [
    "## Random Forest Classifier Model adjustments "
   ]
  },
  {
   "cell_type": "code",
   "execution_count": 22,
   "metadata": {
    "_uuid": "20c74ef3231e6045f25eec0d127443c5d6882a4a"
   },
   "outputs": [
    {
     "name": "stderr",
     "output_type": "stream",
     "text": [
      "/opt/conda/lib/python3.6/site-packages/ipykernel_launcher.py:22: DataConversionWarning: A column-vector y was passed when a 1d array was expected. Please change the shape of y to (n_samples,), for example using ravel().\n"
     ]
    },
    {
     "data": {
      "image/png": "[encoded data removed]",
      "text/plain": [
       "<Figure size 432x288 with 1 Axes>"
      ]
     },
     "metadata": {},
     "output_type": "display_data"
    },
    {
     "name": "stdout",
     "output_type": "stream",
     "text": [
      "auc roc score:  0.972386276776702\n",
      "Classifcation report:\n",
      "               precision    recall  f1-score   support\n",
      "\n",
      "         0.0       1.00      1.00      1.00     85296\n",
      "         1.0       0.85      0.82      0.83       147\n",
      "\n",
      "   micro avg       1.00      1.00      1.00     85443\n",
      "   macro avg       0.92      0.91      0.92     85443\n",
      "weighted avg       1.00      1.00      1.00     85443\n",
      "\n",
      "Confusion matrix:\n",
      " [[85274    22]\n",
      " [   27   120]]\n"
     ]
    }
   ],
   "source": [
    "# Import the Random Forest Classifier model from sklearn\n",
    "from sklearn.model_selection import train_test_split\n",
    "from sklearn.ensemble import RandomForestClassifier\n",
    "from sklearn.metrics import accuracy_score,roc_auc_score\n",
    "from sklearn.metrics import classification_report\n",
    "from sklearn.metrics import confusion_matrix\n",
    "\n",
    "# Create the training and testing sets\n",
    "X_train, X_test, y_train, y_test = train_test_split(X, y, test_size=.3, random_state=0)\n",
    "\n",
    "# Define the model with balanced subsample\n",
    "model = RandomForestClassifier(bootstrap=True,\n",
    "                               class_weight={0:1, 1:12}, # 0: non-fraud , 1:fraud\n",
    "                               criterion='entropy',\n",
    "                               max_depth=10, # Change depth of model\n",
    "                               min_samples_leaf=10, # Change the number of samples in leaf nodes\n",
    "                               n_estimators=20, # Change the number of trees to use\n",
    "                               n_jobs=-1, \n",
    "                               random_state=5)\n",
    "\n",
    "# Fit your training model to your training set\n",
    "model.fit(X_train, y_train)\n",
    "\n",
    "# Obtain the predicted values and probabilities from the model \n",
    "y_predicted = model.predict(X_test)\n",
    "\n",
    "# Calculate probs\n",
    "probs = model.predict_proba(X_test)\n",
    "\n",
    "# Calculate average precision \n",
    "average_precision = average_precision_score(y_test, y_predicted)\n",
    "\n",
    "# Obtain precision and recall \n",
    "precision, recall, _ = precision_recall_curve(y_test, y_predicted)\n",
    "\n",
    "# Plot the recall precision tradeoff\n",
    "plot_pr_curve(recall, precision, average_precision)\n",
    "\n",
    "# Print the roc auc score, the classification report and confusion matrix\n",
    "print(\"auc roc score: \", roc_auc_score(y_test, probs[:,1]))\n",
    "print('Classifcation report:\\n', classification_report(y_test, y_predicted))\n",
    "print('Confusion matrix:\\n', confusion_matrix(y_test, y_predicted))"
   ]
  },
  {
   "cell_type": "markdown",
   "metadata": {
    "_uuid": "ed95a0a8c61e7911befeb1e3f049a317b024f8de"
   },
   "source": [
    "The model results don't improve drastically.   \n",
    "If we mostly care about catching fraud, and not so much about the false positives, this does actually not improve our model at all, albeit a simple option to try.  \n",
    "By smartly defining more options in the model, you can obtain better predictions. "
   ]
  },
  {
   "cell_type": "markdown",
   "metadata": {
    "_uuid": "1223ec2ac335534db0766592007959db71d7a0a8"
   },
   "source": [
    "## GridSearchCV to find optimal parameters for Random Forest Classifier"
   ]
  },
  {
   "cell_type": "code",
   "execution_count": 23,
   "metadata": {
    "_uuid": "7f35f79e63861f910b7fdb7c97e36db4a3a5018f"
   },
   "outputs": [
    {
     "name": "stderr",
     "output_type": "stream",
     "text": [
      "/opt/conda/lib/python3.6/site-packages/sklearn/model_selection/_search.py:740: DataConversionWarning: A column-vector y was passed when a 1d array was expected. Please change the shape of y to (n_samples,), for example using ravel().\n",
      "  self.best_estimator_.fit(X, y, **fit_params)\n"
     ]
    },
    {
     "data": {
      "text/plain": [
       "{'criterion': 'entropy',\n",
       " 'max_depth': 8,\n",
       " 'max_features': 'auto',\n",
       " 'n_estimators': 30}"
      ]
     },
     "execution_count": 23,
     "metadata": {},
     "output_type": "execute_result"
    }
   ],
   "source": [
    "from sklearn.model_selection import GridSearchCV\n",
    "from sklearn.ensemble import RandomForestClassifier\n",
    "\n",
    "# Define the parameter sets to test\n",
    "param_grid = {\n",
    "    'n_estimators': [1, 30], \n",
    "    'max_features': ['auto', 'log2'],  \n",
    "    'max_depth': [4, 8], \n",
    "    'criterion': ['gini', 'entropy']\n",
    "}\n",
    "\n",
    "# Define the model to use\n",
    "model = RandomForestClassifier(random_state=5)\n",
    "\n",
    "# Combine the parameter sets with the defined model\n",
    "CV_model = GridSearchCV(estimator=model, param_grid=param_grid, cv=5, scoring='recall', n_jobs=-1)\n",
    "\n",
    "# Fit the model to our training data and obtain best parameters\n",
    "CV_model.fit(X_train, y_train)\n",
    "CV_model.best_params_"
   ]
  },
  {
   "cell_type": "markdown",
   "metadata": {
    "_uuid": "ab6c9b0a16f180f462c983bcc57428f6b9b65c1b"
   },
   "source": [
    "## Model results using GridSearchCV"
   ]
  },
  {
   "cell_type": "code",
   "execution_count": 24,
   "metadata": {
    "_uuid": "5b70ed004708cf3f5676c1eaa592f30d6f5fbf1b"
   },
   "outputs": [
    {
     "name": "stderr",
     "output_type": "stream",
     "text": [
      "/opt/conda/lib/python3.6/site-packages/ipykernel_launcher.py:17: DataConversionWarning: A column-vector y was passed when a 1d array was expected. Please change the shape of y to (n_samples,), for example using ravel().\n"
     ]
    },
    {
     "data": {
      "image/png": "[encoded data removed]",
      "text/plain": [
       "<Figure size 432x288 with 1 Axes>"
      ]
     },
     "metadata": {},
     "output_type": "display_data"
    },
    {
     "name": "stdout",
     "output_type": "stream",
     "text": [
      "roc_auc_score: 0.9783260964299432\n",
      "Classification report:\n",
      "               precision    recall  f1-score   support\n",
      "\n",
      "         0.0       1.00      1.00      1.00     85296\n",
      "         1.0       0.86      0.81      0.83       147\n",
      "\n",
      "   micro avg       1.00      1.00      1.00     85443\n",
      "   macro avg       0.93      0.90      0.92     85443\n",
      "weighted avg       1.00      1.00      1.00     85443\n",
      "\n",
      "Confusion_matrix:\n",
      " [[85276    20]\n",
      " [   28   119]]\n"
     ]
    }
   ],
   "source": [
    "from sklearn.metrics import accuracy_score,roc_auc_score\n",
    "from sklearn.metrics import classification_report\n",
    "from sklearn.metrics import confusion_matrix\n",
    "\n",
    "# Build a RandomForestClassifier using the GridSearchCV parameters\n",
    "model = RandomForestClassifier(bootstrap=True,\n",
    "                               class_weight = {0:1,1:12},\n",
    "                               criterion = 'entropy',\n",
    "                               n_estimators = 30,\n",
    "                               max_features = 'auto',\n",
    "                               min_samples_leaf = 10,\n",
    "                               max_depth = 8,\n",
    "                               n_jobs = -1,\n",
    "                               random_state = 5)\n",
    "\n",
    "# Fit the model to your training data and get the predicted results\n",
    "model.fit(X_train,y_train)\n",
    "y_predicted = model.predict(X_test)\n",
    "\n",
    "# Calculate average precision \n",
    "average_precision = average_precision_score(y_test, y_predicted)\n",
    "\n",
    "# Obtain precision and recall \n",
    "precision, recall, _ = precision_recall_curve(y_test, y_predicted)\n",
    "\n",
    "# Plot the recall precision tradeoff\n",
    "plot_pr_curve(recall, precision, average_precision)\n",
    "\n",
    "# Print the roc_auc_score,Classifcation report and Confusin matrix\n",
    "probs = model.predict_proba(X_test)\n",
    "print('roc_auc_score:', roc_auc_score(y_test,probs[:,1]))\n",
    "print('Classification report:\\n',classification_report(y_test,y_predicted))\n",
    "print('Confusion_matrix:\\n',confusion_matrix(y_test,y_predicted))"
   ]
  },
  {
   "cell_type": "markdown",
   "metadata": {
    "_uuid": "bc514e407d0768987f8fc15472fc35fe54f2acf6"
   },
   "source": [
    "The results of this model just does not perform better."
   ]
  },
  {
   "cell_type": "markdown",
   "metadata": {
    "_uuid": "3c5a73a0eb08cd8a1561b9345af9a2288e0b387e"
   },
   "source": [
    "# Module 6: Voting Classifier"
   ]
  },
  {
   "cell_type": "code",
   "execution_count": 25,
   "metadata": {
    "_uuid": "d5a8ac9402da113a5c67fb9e08fc00ce84eef64d"
   },
   "outputs": [
    {
     "name": "stderr",
     "output_type": "stream",
     "text": [
      "/opt/conda/lib/python3.6/site-packages/sklearn/preprocessing/label.py:219: DataConversionWarning: A column-vector y was passed when a 1d array was expected. Please change the shape of y to (n_samples, ), for example using ravel().\n",
      "  y = column_or_1d(y, warn=True)\n",
      "/opt/conda/lib/python3.6/site-packages/sklearn/preprocessing/label.py:252: DataConversionWarning: A column-vector y was passed when a 1d array was expected. Please change the shape of y to (n_samples, ), for example using ravel().\n",
      "  y = column_or_1d(y, warn=True)\n",
      "/opt/conda/lib/python3.6/site-packages/sklearn/linear_model/logistic.py:433: FutureWarning: Default solver will be changed to 'lbfgs' in 0.22. Specify a solver to silence this warning.\n",
      "  FutureWarning)\n"
     ]
    },
    {
     "name": "stdout",
     "output_type": "stream",
     "text": [
      "Classifier report:\n",
      "               precision    recall  f1-score   support\n",
      "\n",
      "         0.0       1.00      1.00      1.00     85296\n",
      "         1.0       0.85      0.82      0.83       147\n",
      "\n",
      "   micro avg       1.00      1.00      1.00     85443\n",
      "   macro avg       0.92      0.91      0.92     85443\n",
      "weighted avg       1.00      1.00      1.00     85443\n",
      "\n",
      "Confusion matrix:\n",
      " [[85274    22]\n",
      " [   27   120]]\n"
     ]
    }
   ],
   "source": [
    "# Import modules \n",
    "from sklearn.model_selection import train_test_split\n",
    "from sklearn.linear_model import LogisticRegression\n",
    "from sklearn.tree import DecisionTreeClassifier\n",
    "from sklearn.ensemble import RandomForestClassifier\n",
    "from sklearn.ensemble import VotingClassifier\n",
    "\n",
    "from sklearn.metrics import roc_auc_score\n",
    "from sklearn.metrics import classification_report\n",
    "from sklearn.metrics import confusion_matrix\n",
    "\n",
    "# Create the training and testing sets\n",
    "X_train, X_test, y_train, y_test = train_test_split(X, y, test_size=.3, random_state=0)\n",
    "\n",
    "# Define the three classifiers to use in the ensemble\n",
    "clf1 = LogisticRegression(class_weight={0:1,1:15},random_state=5)\n",
    "clf2 = RandomForestClassifier(class_weight={0:1,1:12},\n",
    "                              criterion='entropy',\n",
    "                              max_depth=10,\n",
    "                              max_features='auto',\n",
    "                              min_samples_leaf=10, \n",
    "                              n_estimators=20,\n",
    "                              n_jobs=-1,\n",
    "                              random_state=5)\n",
    "clf3 = DecisionTreeClassifier(class_weight='balanced',random_state=5)\n",
    "\n",
    "# Combine the classifiers in the ensemble model\n",
    "ensemble_model = VotingClassifier(estimators=[('lr', clf1), ('rf', clf2), ('dt', clf3)], voting='hard')\n",
    "\n",
    "# Fit the model to your training data and get the predicted results\n",
    "ensemble_model.fit(X_train,y_train)\n",
    "y_predicted = ensemble_model.predict(X_test)\n",
    "\n",
    "# print roc auc score , Classification report and Confusion matrix of the model\n",
    "print('Classifier report:\\n',classification_report(y_test,y_predicted))\n",
    "print('Confusion matrix:\\n',confusion_matrix(y_test,y_predicted))"
   ]
  },
  {
   "cell_type": "markdown",
   "metadata": {
    "_uuid": "22ab9ad0f628f5dd7f9647e60132bab125a7763e"
   },
   "source": [
    "By combining the classifiers, you can take the best of multiple models.  \n",
    "By combining these together you indeed managed to improve performance."
   ]
  },
  {
   "cell_type": "code",
   "execution_count": 26,
   "metadata": {
    "_uuid": "f86d2898ce6f007c8c4cbbc3793166cb043a1bad"
   },
   "outputs": [
    {
     "name": "stderr",
     "output_type": "stream",
     "text": [
      "/opt/conda/lib/python3.6/site-packages/sklearn/preprocessing/label.py:219: DataConversionWarning: A column-vector y was passed when a 1d array was expected. Please change the shape of y to (n_samples, ), for example using ravel().\n",
      "  y = column_or_1d(y, warn=True)\n",
      "/opt/conda/lib/python3.6/site-packages/sklearn/preprocessing/label.py:252: DataConversionWarning: A column-vector y was passed when a 1d array was expected. Please change the shape of y to (n_samples, ), for example using ravel().\n",
      "  y = column_or_1d(y, warn=True)\n",
      "/opt/conda/lib/python3.6/site-packages/sklearn/linear_model/logistic.py:433: FutureWarning: Default solver will be changed to 'lbfgs' in 0.22. Specify a solver to silence this warning.\n",
      "  FutureWarning)\n"
     ]
    },
    {
     "data": {
      "image/png": "[encoded data removed]",
      "text/plain": [
       "<Figure size 432x288 with 1 Axes>"
      ]
     },
     "metadata": {},
     "output_type": "display_data"
    },
    {
     "name": "stdout",
     "output_type": "stream",
     "text": [
      "Classifier report:\n",
      "               precision    recall  f1-score   support\n",
      "\n",
      "         0.0       1.00      1.00      1.00     85296\n",
      "         1.0       0.85      0.82      0.83       147\n",
      "\n",
      "   micro avg       1.00      1.00      1.00     85443\n",
      "   macro avg       0.93      0.91      0.92     85443\n",
      "weighted avg       1.00      1.00      1.00     85443\n",
      "\n",
      "Confusion matrix:\n",
      " [[85275    21]\n",
      " [   27   120]]\n"
     ]
    }
   ],
   "source": [
    "# Adjust weights within the Voting Classifier\n",
    "\n",
    "# Define the ensemble model\n",
    "ensemble_model = VotingClassifier(estimators=[('lr', clf1), ('rf', clf2), ('gnb', clf3)], \n",
    "                                  voting='soft', \n",
    "                                  weights=[1, 4, 1], \n",
    "                                  flatten_transform=True)\n",
    "\n",
    "# Fit the model to your training data and get the predicted results\n",
    "ensemble_model.fit(X_train,y_train)\n",
    "y_predicted = ensemble_model.predict(X_test)\n",
    "\n",
    "# Calculate average precision \n",
    "average_precision = average_precision_score(y_test, y_predicted)\n",
    "\n",
    "# Obtain precision and recall \n",
    "precision, recall, _ = precision_recall_curve(y_test, y_predicted)\n",
    "\n",
    "# Plot the recall precision tradeoff\n",
    "plot_pr_curve(recall, precision, average_precision)\n",
    "\n",
    "# print roc auc score , Classification report and Confusion matrix of the model\n",
    "print('Classifier report:\\n',classification_report(y_test,y_predicted))\n",
    "print('Confusion matrix:\\n',confusion_matrix(y_test,y_predicted))\n"
   ]
  },
  {
   "cell_type": "code",
   "execution_count": 27,
   "metadata": {
    "_uuid": "5eba846e464ebac954f5152435328d254fcfaf0f"
   },
   "outputs": [
    {
     "data": {
      "text/plain": [
       "[LogisticRegression(C=1.0, class_weight={0: 1, 1: 15}, dual=False,\n",
       "           fit_intercept=True, intercept_scaling=1, max_iter=100,\n",
       "           multi_class='warn', n_jobs=None, penalty='l2', random_state=5,\n",
       "           solver='warn', tol=0.0001, verbose=0, warm_start=False),\n",
       " RandomForestClassifier(bootstrap=True, class_weight={0: 1, 1: 12},\n",
       "             criterion='entropy', max_depth=10, max_features='auto',\n",
       "             max_leaf_nodes=None, min_impurity_decrease=0.0,\n",
       "             min_impurity_split=None, min_samples_leaf=10,\n",
       "             min_samples_split=2, min_weight_fraction_leaf=0.0,\n",
       "             n_estimators=20, n_jobs=-1, oob_score=False, random_state=5,\n",
       "             verbose=0, warm_start=False),\n",
       " DecisionTreeClassifier(class_weight='balanced', criterion='gini',\n",
       "             max_depth=None, max_features=None, max_leaf_nodes=None,\n",
       "             min_impurity_decrease=0.0, min_impurity_split=None,\n",
       "             min_samples_leaf=1, min_samples_split=2,\n",
       "             min_weight_fraction_leaf=0.0, presort=False, random_state=5,\n",
       "             splitter='best')]"
      ]
     },
     "execution_count": 27,
     "metadata": {},
     "output_type": "execute_result"
    }
   ],
   "source": [
    "ensemble_model.estimators_"
   ]
  },
  {
   "cell_type": "markdown",
   "metadata": {
    "_uuid": "5c2d3bc4f816a7fcdc893077af19239c3dc97fc1"
   },
   "source": [
    "The weight option allows you to play with the individual models to get the best final mix for your fraud detection model.  \n",
    "But the model performance does not improve."
   ]
  },
  {
   "cell_type": "markdown",
   "metadata": {
    "_uuid": "c5451ecb36887594cde622bab6ea580b97d14c76"
   },
   "source": [
    "# Module 7: KMeans Clustering"
   ]
  },
  {
   "cell_type": "markdown",
   "metadata": {
    "_uuid": "17eb8eda96ff88dd0b5fabd40d17b70c45a1c91a"
   },
   "source": [
    "## Prepare unlabeled train and test dataset"
   ]
  },
  {
   "cell_type": "code",
   "execution_count": 28,
   "metadata": {
    "_uuid": "f081470c53832391c9fe037a932b6126f9eccf40"
   },
   "outputs": [],
   "source": [
    "from sklearn.model_selection import train_test_split\n",
    "from sklearn.preprocessing import normalize\n",
    "\n",
    "# Split the data into train set and test set\n",
    "train,test = train_test_split(df,test_size=0.3,random_state=0)\n",
    "\n",
    "# Get the arrays of features and labels in train dataset\n",
    "features_train = train.drop(['Time','Class'],axis=1)\n",
    "features_train = features_train.values\n",
    "labels_train = pd.DataFrame(train[['Class']])\n",
    "labels_train = labels_train.values\n",
    "\n",
    "# Get the arrays of features and labels in test dataset\n",
    "features_test = test.drop(['Time','Class'],axis=1)\n",
    "features_test = features_test.values\n",
    "labels_test = pd.DataFrame(test[[\"Class\"]])\n",
    "labels_test = labels_test.values\n",
    "\n",
    "# Normalize the features in both train and test dataset\n",
    "features_train = normalize(features_train)\n",
    "features_test = normalize(features_test)"
   ]
  },
  {
   "cell_type": "markdown",
   "metadata": {
    "_uuid": "10fe8df0396add8dc637d62e44004e6a0e5bf354"
   },
   "source": [
    "## Build the model"
   ]
  },
  {
   "cell_type": "code",
   "execution_count": 29,
   "metadata": {
    "_uuid": "39bafd919cb5da1b869065a59de6ff92668e18df"
   },
   "outputs": [
    {
     "name": "stdout",
     "output_type": "stream",
     "text": [
      "True\n"
     ]
    }
   ],
   "source": [
    "from sklearn.cluster import KMeans\n",
    "from sklearn.metrics import confusion_matrix\n",
    "\n",
    "model = KMeans(n_clusters=2,random_state=0)\n",
    "model.fit(features_train)\n",
    "labels_train_predicted = model.predict(features_train)\n",
    "labels_test_predicted = model.predict(features_test)\n",
    "\n",
    "# Decide if model predicted label is aligned with true label \n",
    "true_negative,false_positive,false_negative,true_positive = confusion_matrix(labels_train,labels_train_predicted).ravel()\n",
    "reassignflag = true_negative + true_positive < false_positive + false_negative\n",
    "print(reassignflag)\n",
    "\n",
    "\n",
    "labels_test_predicted = 1- labels_test_predicted\n"
   ]
  },
  {
   "cell_type": "markdown",
   "metadata": {
    "_uuid": "e9770673b6989d6a199aa23aac60b24a6347e7e7"
   },
   "source": [
    "## Model Evaluation"
   ]
  },
  {
   "cell_type": "code",
   "execution_count": 30,
   "metadata": {
    "_uuid": "08377802982fe6a0abef45afe45e16aeb2c9d39c"
   },
   "outputs": [
    {
     "name": "stdout",
     "output_type": "stream",
     "text": [
      "Confusion Matrix:\n",
      " [[67805 17491]\n",
      " [   56    91]]\n",
      "kmeans_precison_score: 0.0051757479240131955\n",
      "kmeans_recall_score: 0.6190476190476191\n",
      "kmeans_accuracy_score: 0.7946350198377866\n",
      "kmeans_f1_score: 0.010265666422246038\n"
     ]
    }
   ],
   "source": [
    "from sklearn.metrics import confusion_matrix, precision_score, recall_score, accuracy_score,f1_score\n",
    "# Calculating confusion matrix for kmeans\n",
    "print('Confusion Matrix:\\n',confusion_matrix(labels_test,labels_test_predicted))\n",
    "\n",
    "# Scoring kmeans\n",
    "\n",
    "print('kmeans_precison_score:', precision_score(labels_test,labels_test_predicted))\n",
    "print('kmeans_recall_score:', recall_score(labels_test,labels_test_predicted))\n",
    "print('kmeans_accuracy_score:', accuracy_score(labels_test,labels_test_predicted))\n",
    "print('kmeans_f1_score:',f1_score(labels_test,labels_test_predicted))"
   ]
  },
  {
   "cell_type": "markdown",
   "metadata": {
    "_uuid": "6601e23fb5e986b0b0c29080f13e693712699b6f"
   },
   "source": [
    "We can detect 91 out of 147 fraud cases in the test dataset.  \n",
    "But there are 17361 false positive cases which indicated that our KMeans model needs to be improved by selecting good features.  \n"
   ]
  },
  {
   "cell_type": "markdown",
   "metadata": {
    "_uuid": "6d11ce8ba2bf345de6206d6b6775ec4dfa701aa9"
   },
   "source": [
    "# Module 8: MiniBatchKMeans Clustering"
   ]
  },
  {
   "cell_type": "code",
   "execution_count": 31,
   "metadata": {
    "_uuid": "9f0c0ac4b0b4b54fb5e658d3187029a679634d9d"
   },
   "outputs": [],
   "source": [
    "from sklearn.model_selection import train_test_split\n",
    "from sklearn.preprocessing import normalize\n",
    "\n",
    "# Split the data into train set and test set\n",
    "train,test = train_test_split(df,test_size=0.3,random_state=0)\n",
    "\n",
    "# Get the arrays of features and labels in train dataset\n",
    "features_train = train.drop(['Time','Class'],axis=1)\n",
    "features_train = features_train.values\n",
    "labels_train = pd.DataFrame(train[['Class']])\n",
    "labels_train = labels_train.values\n",
    "\n",
    "# Get the arrays of features and labels in test dataset\n",
    "features_test = test.drop(['Time','Class'],axis=1)\n",
    "features_test = features_test.values\n",
    "labels_test = pd.DataFrame(test[[\"Class\"]])\n",
    "labels_test = labels_test.values\n",
    "\n",
    "# Normalize the features in both train and test dataset\n",
    "features_train = normalize(features_train)\n",
    "features_test = normalize(features_test)"
   ]
  },
  {
   "cell_type": "code",
   "execution_count": 32,
   "metadata": {
    "_uuid": "b3bf52bea609ed99ff50babd2b696873971ae9d8"
   },
   "outputs": [
    {
     "name": "stdout",
     "output_type": "stream",
     "text": [
      "False\n"
     ]
    }
   ],
   "source": [
    "from sklearn.cluster import MiniBatchKMeans\n",
    "from sklearn.metrics import confusion_matrix\n",
    "\n",
    "model = MiniBatchKMeans(n_clusters=2,random_state=0)\n",
    "model.fit(features_train)\n",
    "labels_train_predicted = model.predict(features_train)\n",
    "labels_test_predicted = model.predict(features_test)\n",
    "\n",
    "# Decide if model predicted label is aligned with true label \n",
    "true_negative,false_positive,false_negative,true_positive = confusion_matrix(labels_train,labels_train_predicted).ravel()\n",
    "reassignflag = true_negative + true_positive < false_positive + false_negative\n",
    "print(reassignflag)\n"
   ]
  },
  {
   "cell_type": "code",
   "execution_count": 33,
   "metadata": {
    "_uuid": "514e09379235b1b066cb9762a012626bd7944688"
   },
   "outputs": [
    {
     "name": "stdout",
     "output_type": "stream",
     "text": [
      "Confusion Matrix:\n",
      " [[67837 17459]\n",
      " [   56    91]]\n",
      "kmeans_precison_score: 0.005185185185185185\n",
      "kmeans_recall_score: 0.6190476190476191\n",
      "kmeans_accuracy_score: 0.7950095385227579\n",
      "kmeans_f1_score: 0.01028422896536136\n"
     ]
    }
   ],
   "source": [
    "from sklearn.metrics import confusion_matrix, precision_score, recall_score, accuracy_score,f1_score\n",
    "# Calculating confusion matrix for kmeans\n",
    "print('Confusion Matrix:\\n',confusion_matrix(labels_test,labels_test_predicted))\n",
    "\n",
    "# Scoring kmeans\n",
    "\n",
    "print('kmeans_precison_score:', precision_score(labels_test,labels_test_predicted))\n",
    "print('kmeans_recall_score:', recall_score(labels_test,labels_test_predicted))\n",
    "print('kmeans_accuracy_score:', accuracy_score(labels_test,labels_test_predicted))\n",
    "print('kmeans_f1_score:',f1_score(labels_test,labels_test_predicted))"
   ]
  },
  {
   "cell_type": "markdown",
   "metadata": {
    "_uuid": "411770fc6f4bdac76fe02d4bf4cfac245756eca7"
   },
   "source": [
    "We can detect 91 out of 147 fraud cases in the test dataset.  \n",
    "But there are 17341 false positive cases which indicated that our MiniBatchKMeans model needs to be improved by selecting good features.  "
   ]
  },
  {
   "cell_type": "markdown",
   "metadata": {
    "_uuid": "6e42d94de2208dfdcd6b80a2a672ef7f2021286d"
   },
   "source": [
    "# Module 9: Autoencoders \n"
   ]
  },
  {
   "cell_type": "markdown",
   "metadata": {
    "_uuid": "4fa358551032ee2b6435c8264f1ba66530b0f77c"
   },
   "source": [
    "## Prepare training data and testing data\n",
    "\n",
    "First, drop the \"Time\" column (not going to use it as it is unimportant) and use the scikit’s StandardScaler on the Amount.  The scaler removes the mean and scales the values to unit variance.  \n",
    "Autoencoder is gonna be a bit different from what we are used to. We will create this situation by training our model on the normal transactions, only.   \n",
    "Reserve 30% of our data for testing"
   ]
  },
  {
   "cell_type": "code",
   "execution_count": 34,
   "metadata": {
    "_uuid": "94e1e6d13a47e8d5ab9b88936de6e2b6cfc13e2c"
   },
   "outputs": [
    {
     "data": {
      "text/plain": [
       "(199019, 31)"
      ]
     },
     "execution_count": 34,
     "metadata": {},
     "output_type": "execute_result"
    }
   ],
   "source": [
    "from sklearn.model_selection import train_test_split\n",
    "from sklearn.preprocessing import StandardScaler\n",
    "\n",
    "# Make another copy of df and drop the unimportant \"Time\" feature\n",
    "data = df.drop(['Time'], axis=1) \n",
    "\n",
    "# Use scikit’s StandardScaler on the \"Amount\" feature\n",
    "# The scaler removes the mean and scales the values to unit variance\n",
    "data['Amount'] = StandardScaler().fit_transform(data['Amount'].values.reshape(-1, 1))\n",
    "\n",
    "# Create the training and testing sets\n",
    "X1_train, X1_test = train_test_split(data, test_size=.3, random_state=0)\n",
    "X1_train = X1_train[X1_train.Class == 0] # train the model on normal transactions\n",
    "X1_train = X1_train.drop(['Class'], axis=1)\n",
    "\n",
    "y1_test = X1_test['Class']\n",
    "X1_test  = X1_test.drop(['Class'], axis=1) #drop the class column\n",
    "\n",
    "\n",
    "#transform to ndarray\n",
    "X1_train = X1_train.values\n",
    "X1_test = X1_test.values\n",
    "X1_train.shape"
   ]
  },
  {
   "cell_type": "markdown",
   "metadata": {
    "_uuid": "c1329b5f411e89f71415dd24fc4bec508093b318"
   },
   "source": [
    "## Build the Autoencoder Model\n",
    "Use 4 fully connected layers with 14, 7, 7 and 29 neurons respectively for this Autoencoder model.     \n",
    "The first two layers are used for encoder, the last two go for the decoder.   \n",
    "Use L1 regularization during training"
   ]
  },
  {
   "cell_type": "code",
   "execution_count": 35,
   "metadata": {
    "_uuid": "e60b6779e5df58c77e3100a7a9c2dc8ac649330e"
   },
   "outputs": [],
   "source": [
    "import tensorflow as tf\n",
    "from keras.models import Model, load_model\n",
    "from keras.layers import Input, Dense\n",
    "from keras.callbacks import ModelCheckpoint, TensorBoard\n",
    "from keras import regularizers\n",
    "\n",
    "input_dim = X1_train.shape[1] #num of columns, 29\n",
    "encoding_dim = 14\n",
    "hidden_dim = int(encoding_dim / 2)\n",
    "learning_rate = 1e-5\n",
    "\n",
    "input_layer = Input(shape=(input_dim, ))\n",
    "encoder = Dense(encoding_dim, \n",
    "                activation=\"tanh\", \n",
    "                activity_regularizer=regularizers.l1(learning_rate))(input_layer)\n",
    "encoder = Dense(hidden_dim, activation=\"relu\")(encoder)\n",
    "decoder = Dense(hidden_dim, activation='tanh')(encoder)\n",
    "decoder = Dense(input_dim, activation='relu')(decoder)\n",
    "autoencoder = Model(inputs=input_layer, outputs=decoder)"
   ]
  },
  {
   "cell_type": "markdown",
   "metadata": {
    "_uuid": "482f62608c236dec8cbddec54d2afc6e7a4678a4"
   },
   "source": [
    "## Train the Autoencoder Model\n",
    "Train our model for 100 epochs with a batch size of 128 samples and save the best performing model to a file.   \n",
    "The ModelCheckpoint provided by Keras is really handy for such tasks.   \n",
    "Additionally, the training progress will be exported in a format that TensorBoard understands."
   ]
  },
  {
   "cell_type": "code",
   "execution_count": 36,
   "metadata": {
    "_uuid": "6b0b14433049120c0bec69001fe4c908aa7c7e1b"
   },
   "outputs": [
    {
     "name": "stdout",
     "output_type": "stream",
     "text": [
      "Train on 199019 samples, validate on 85443 samples\n",
      "Epoch 1/100\n",
      "199019/199019 [==============================] - 3s 17us/step - loss: 1.0959 - acc: 0.5132 - val_loss: 1.0509 - val_acc: 0.6455\n",
      "Epoch 2/100\n",
      "199019/199019 [==============================] - 3s 15us/step - loss: 0.9123 - acc: 0.6655 - val_loss: 0.9650 - val_acc: 0.6678\n",
      "Epoch 3/100\n",
      "199019/199019 [==============================] - 3s 15us/step - loss: 0.8541 - acc: 0.6769 - val_loss: 0.9190 - val_acc: 0.6883\n",
      "Epoch 4/100\n",
      "199019/199019 [==============================] - 3s 14us/step - loss: 0.8187 - acc: 0.6889 - val_loss: 0.8992 - val_acc: 0.6871\n",
      "Epoch 5/100\n",
      "199019/199019 [==============================] - 3s 14us/step - loss: 0.7997 - acc: 0.6917 - val_loss: 0.8785 - val_acc: 0.6907\n",
      "Epoch 6/100\n",
      "199019/199019 [==============================] - 3s 14us/step - loss: 0.7868 - acc: 0.6947 - val_loss: 0.8691 - val_acc: 0.6976\n",
      "Epoch 7/100\n",
      "199019/199019 [==============================] - 3s 14us/step - loss: 0.7780 - acc: 0.6981 - val_loss: 0.8599 - val_acc: 0.6991\n",
      "Epoch 8/100\n",
      "199019/199019 [==============================] - 3s 14us/step - loss: 0.7715 - acc: 0.6994 - val_loss: 0.8518 - val_acc: 0.7027\n",
      "Epoch 9/100\n",
      "199019/199019 [==============================] - 3s 14us/step - loss: 0.7653 - acc: 0.7016 - val_loss: 0.8455 - val_acc: 0.7006\n",
      "Epoch 10/100\n",
      "199019/199019 [==============================] - 3s 14us/step - loss: 0.7611 - acc: 0.7026 - val_loss: 0.8413 - val_acc: 0.7003\n",
      "Epoch 11/100\n",
      "199019/199019 [==============================] - 3s 14us/step - loss: 0.7508 - acc: 0.7027 - val_loss: 0.8284 - val_acc: 0.7053\n",
      "Epoch 12/100\n",
      "199019/199019 [==============================] - 3s 13us/step - loss: 0.7443 - acc: 0.7058 - val_loss: 0.8262 - val_acc: 0.7106\n",
      "Epoch 13/100\n",
      "199019/199019 [==============================] - 3s 13us/step - loss: 0.7394 - acc: 0.7076 - val_loss: 0.8218 - val_acc: 0.7036\n",
      "Epoch 14/100\n",
      "199019/199019 [==============================] - 3s 14us/step - loss: 0.7346 - acc: 0.7085 - val_loss: 0.8142 - val_acc: 0.7098\n",
      "Epoch 15/100\n",
      "199019/199019 [==============================] - 3s 13us/step - loss: 0.7314 - acc: 0.7105 - val_loss: 0.8109 - val_acc: 0.7126\n",
      "Epoch 16/100\n",
      "199019/199019 [==============================] - 3s 13us/step - loss: 0.7281 - acc: 0.7123 - val_loss: 0.8135 - val_acc: 0.7031\n",
      "Epoch 17/100\n",
      "199019/199019 [==============================] - 3s 13us/step - loss: 0.7246 - acc: 0.7155 - val_loss: 0.8033 - val_acc: 0.7138\n",
      "Epoch 18/100\n",
      "199019/199019 [==============================] - 3s 14us/step - loss: 0.7219 - acc: 0.7174 - val_loss: 0.7986 - val_acc: 0.7182\n",
      "Epoch 19/100\n",
      "199019/199019 [==============================] - 3s 13us/step - loss: 0.7195 - acc: 0.7164 - val_loss: 0.8006 - val_acc: 0.7154\n",
      "Epoch 20/100\n",
      "199019/199019 [==============================] - 3s 14us/step - loss: 0.7189 - acc: 0.7158 - val_loss: 0.7969 - val_acc: 0.7198\n",
      "Epoch 21/100\n",
      "199019/199019 [==============================] - 3s 14us/step - loss: 0.7145 - acc: 0.7180 - val_loss: 0.7905 - val_acc: 0.7223\n",
      "Epoch 22/100\n",
      "199019/199019 [==============================] - 3s 14us/step - loss: 0.7124 - acc: 0.7192 - val_loss: 0.7922 - val_acc: 0.7117\n",
      "Epoch 23/100\n",
      "199019/199019 [==============================] - 3s 14us/step - loss: 0.7120 - acc: 0.7185 - val_loss: 0.7954 - val_acc: 0.7141\n",
      "Epoch 24/100\n",
      "199019/199019 [==============================] - 3s 14us/step - loss: 0.7116 - acc: 0.7185 - val_loss: 0.7847 - val_acc: 0.7234\n",
      "Epoch 25/100\n",
      "199019/199019 [==============================] - 3s 14us/step - loss: 0.7088 - acc: 0.7196 - val_loss: 0.7838 - val_acc: 0.7206\n",
      "Epoch 26/100\n",
      "199019/199019 [==============================] - 3s 14us/step - loss: 0.7084 - acc: 0.7194 - val_loss: 0.7827 - val_acc: 0.7256\n",
      "Epoch 27/100\n",
      "199019/199019 [==============================] - 3s 13us/step - loss: 0.7067 - acc: 0.7220 - val_loss: 0.7816 - val_acc: 0.7243\n",
      "Epoch 28/100\n",
      "199019/199019 [==============================] - 3s 14us/step - loss: 0.7074 - acc: 0.7226 - val_loss: 0.7829 - val_acc: 0.7248\n",
      "Epoch 29/100\n",
      "199019/199019 [==============================] - 3s 14us/step - loss: 0.7060 - acc: 0.7233 - val_loss: 0.7797 - val_acc: 0.7265\n",
      "Epoch 30/100\n",
      "199019/199019 [==============================] - 3s 14us/step - loss: 0.7043 - acc: 0.7251 - val_loss: 0.7946 - val_acc: 0.7210\n",
      "Epoch 31/100\n",
      "199019/199019 [==============================] - 3s 14us/step - loss: 0.7043 - acc: 0.7256 - val_loss: 0.7777 - val_acc: 0.7288\n",
      "Epoch 32/100\n",
      "199019/199019 [==============================] - 3s 14us/step - loss: 0.7074 - acc: 0.7259 - val_loss: 0.7786 - val_acc: 0.7237\n",
      "Epoch 33/100\n",
      "199019/199019 [==============================] - 3s 14us/step - loss: 0.7019 - acc: 0.7274 - val_loss: 0.7761 - val_acc: 0.7284\n",
      "Epoch 34/100\n",
      "199019/199019 [==============================] - 3s 14us/step - loss: 0.7023 - acc: 0.7264 - val_loss: 0.7774 - val_acc: 0.7275\n",
      "Epoch 35/100\n",
      "199019/199019 [==============================] - 3s 14us/step - loss: 0.7049 - acc: 0.7251 - val_loss: 0.7753 - val_acc: 0.7286\n",
      "Epoch 36/100\n",
      "199019/199019 [==============================] - 3s 14us/step - loss: 0.7001 - acc: 0.7283 - val_loss: 0.7737 - val_acc: 0.7283\n",
      "Epoch 37/100\n",
      "199019/199019 [==============================] - 3s 14us/step - loss: 0.6997 - acc: 0.7276 - val_loss: 0.7724 - val_acc: 0.7316\n",
      "Epoch 38/100\n",
      "199019/199019 [==============================] - 3s 14us/step - loss: 0.6990 - acc: 0.7267 - val_loss: 0.7759 - val_acc: 0.7240\n",
      "Epoch 39/100\n",
      "199019/199019 [==============================] - 3s 14us/step - loss: 0.7001 - acc: 0.7259 - val_loss: 0.7773 - val_acc: 0.7262\n",
      "Epoch 40/100\n",
      "199019/199019 [==============================] - 3s 14us/step - loss: 0.6983 - acc: 0.7267 - val_loss: 0.7817 - val_acc: 0.7293\n",
      "Epoch 41/100\n",
      "199019/199019 [==============================] - 3s 14us/step - loss: 0.6974 - acc: 0.7265 - val_loss: 0.7791 - val_acc: 0.7147\n",
      "Epoch 42/100\n",
      "199019/199019 [==============================] - 3s 13us/step - loss: 0.6979 - acc: 0.7266 - val_loss: 0.7699 - val_acc: 0.7294\n",
      "Epoch 43/100\n",
      "199019/199019 [==============================] - 3s 13us/step - loss: 0.6982 - acc: 0.7257 - val_loss: 0.7684 - val_acc: 0.7258\n",
      "Epoch 44/100\n",
      "199019/199019 [==============================] - 3s 13us/step - loss: 0.6964 - acc: 0.7267 - val_loss: 0.7699 - val_acc: 0.7261\n",
      "Epoch 45/100\n",
      "199019/199019 [==============================] - 3s 13us/step - loss: 0.6985 - acc: 0.7261 - val_loss: 0.7720 - val_acc: 0.7246\n",
      "Epoch 46/100\n",
      "199019/199019 [==============================] - 3s 13us/step - loss: 0.6957 - acc: 0.7280 - val_loss: 0.7682 - val_acc: 0.7287\n",
      "Epoch 47/100\n",
      "199019/199019 [==============================] - 3s 13us/step - loss: 0.6949 - acc: 0.7274 - val_loss: 0.7667 - val_acc: 0.7322\n",
      "Epoch 48/100\n",
      "199019/199019 [==============================] - 3s 13us/step - loss: 0.6966 - acc: 0.7261 - val_loss: 0.7655 - val_acc: 0.7298\n",
      "Epoch 49/100\n",
      "199019/199019 [==============================] - 3s 14us/step - loss: 0.6953 - acc: 0.7282 - val_loss: 0.7698 - val_acc: 0.7264\n",
      "Epoch 50/100\n",
      "199019/199019 [==============================] - 3s 14us/step - loss: 0.6947 - acc: 0.7260 - val_loss: 0.7868 - val_acc: 0.7157\n",
      "Epoch 51/100\n",
      "199019/199019 [==============================] - 3s 14us/step - loss: 0.7025 - acc: 0.7243 - val_loss: 0.7838 - val_acc: 0.7294\n",
      "Epoch 52/100\n",
      "199019/199019 [==============================] - 3s 14us/step - loss: 0.6957 - acc: 0.7288 - val_loss: 0.7667 - val_acc: 0.7256\n",
      "Epoch 53/100\n",
      "199019/199019 [==============================] - 3s 14us/step - loss: 0.6936 - acc: 0.7275 - val_loss: 0.7748 - val_acc: 0.7182\n",
      "Epoch 54/100\n",
      "199019/199019 [==============================] - 3s 14us/step - loss: 0.6947 - acc: 0.7275 - val_loss: 0.7695 - val_acc: 0.7275\n",
      "Epoch 55/100\n",
      "199019/199019 [==============================] - 3s 14us/step - loss: 0.6960 - acc: 0.7262 - val_loss: 0.7652 - val_acc: 0.7299\n",
      "Epoch 56/100\n",
      "199019/199019 [==============================] - 3s 14us/step - loss: 0.6933 - acc: 0.7284 - val_loss: 0.7640 - val_acc: 0.7274\n",
      "Epoch 57/100\n",
      "199019/199019 [==============================] - 3s 14us/step - loss: 0.6936 - acc: 0.7270 - val_loss: 0.7656 - val_acc: 0.7252\n",
      "Epoch 58/100\n",
      "199019/199019 [==============================] - 3s 14us/step - loss: 0.6922 - acc: 0.7279 - val_loss: 0.7635 - val_acc: 0.7309\n",
      "Epoch 59/100\n",
      "199019/199019 [==============================] - 3s 14us/step - loss: 0.6939 - acc: 0.7261 - val_loss: 0.7637 - val_acc: 0.7306\n",
      "Epoch 60/100\n",
      "199019/199019 [==============================] - 3s 13us/step - loss: 0.6912 - acc: 0.7286 - val_loss: 0.7629 - val_acc: 0.7310\n",
      "Epoch 61/100\n",
      "199019/199019 [==============================] - 3s 13us/step - loss: 0.6933 - acc: 0.7270 - val_loss: 0.7608 - val_acc: 0.7312\n",
      "Epoch 62/100\n",
      "199019/199019 [==============================] - 3s 13us/step - loss: 0.6925 - acc: 0.7270 - val_loss: 0.7676 - val_acc: 0.7287\n",
      "Epoch 63/100\n",
      "199019/199019 [==============================] - 3s 13us/step - loss: 0.6947 - acc: 0.7273 - val_loss: 0.7645 - val_acc: 0.7277\n",
      "Epoch 64/100\n",
      "199019/199019 [==============================] - 3s 14us/step - loss: 0.6906 - acc: 0.7299 - val_loss: 0.7635 - val_acc: 0.7257\n",
      "Epoch 65/100\n",
      "199019/199019 [==============================] - 3s 14us/step - loss: 0.6894 - acc: 0.7303 - val_loss: 0.7596 - val_acc: 0.7339\n",
      "Epoch 66/100\n",
      "199019/199019 [==============================] - 3s 14us/step - loss: 0.6909 - acc: 0.7301 - val_loss: 0.7631 - val_acc: 0.7307\n",
      "Epoch 67/100\n",
      "199019/199019 [==============================] - 3s 14us/step - loss: 0.6916 - acc: 0.7291 - val_loss: 0.7915 - val_acc: 0.6992\n",
      "Epoch 68/100\n",
      "199019/199019 [==============================] - 3s 14us/step - loss: 0.6924 - acc: 0.7294 - val_loss: 0.7618 - val_acc: 0.7308\n",
      "Epoch 69/100\n",
      "199019/199019 [==============================] - 3s 14us/step - loss: 0.6898 - acc: 0.7313 - val_loss: 0.7587 - val_acc: 0.7342\n",
      "Epoch 70/100\n",
      "199019/199019 [==============================] - 3s 14us/step - loss: 0.6908 - acc: 0.7295 - val_loss: 0.7571 - val_acc: 0.7333\n",
      "Epoch 71/100\n",
      "199019/199019 [==============================] - 3s 14us/step - loss: 0.6917 - acc: 0.7296 - val_loss: 0.7582 - val_acc: 0.7338\n",
      "Epoch 72/100\n",
      "199019/199019 [==============================] - 3s 14us/step - loss: 0.6904 - acc: 0.7301 - val_loss: 0.7597 - val_acc: 0.7301\n",
      "Epoch 73/100\n",
      "199019/199019 [==============================] - 3s 14us/step - loss: 0.6886 - acc: 0.7306 - val_loss: 0.7591 - val_acc: 0.7342\n",
      "Epoch 74/100\n",
      "199019/199019 [==============================] - 3s 14us/step - loss: 0.6886 - acc: 0.7317 - val_loss: 0.7599 - val_acc: 0.7296\n",
      "Epoch 75/100\n",
      "199019/199019 [==============================] - 3s 13us/step - loss: 0.6924 - acc: 0.7289 - val_loss: 0.7590 - val_acc: 0.7367\n",
      "Epoch 76/100\n",
      "199019/199019 [==============================] - 3s 13us/step - loss: 0.6915 - acc: 0.7291 - val_loss: 0.7608 - val_acc: 0.7321\n",
      "Epoch 77/100\n",
      "199019/199019 [==============================] - 3s 14us/step - loss: 0.6884 - acc: 0.7315 - val_loss: 0.7718 - val_acc: 0.7314\n",
      "Epoch 78/100\n",
      "199019/199019 [==============================] - 3s 14us/step - loss: 0.6884 - acc: 0.7309 - val_loss: 0.7660 - val_acc: 0.7328\n",
      "Epoch 79/100\n",
      "199019/199019 [==============================] - 3s 14us/step - loss: 0.6908 - acc: 0.7295 - val_loss: 0.7598 - val_acc: 0.7316\n",
      "Epoch 80/100\n",
      "199019/199019 [==============================] - 3s 14us/step - loss: 0.6900 - acc: 0.7310 - val_loss: 0.7577 - val_acc: 0.7349\n",
      "Epoch 81/100\n",
      "199019/199019 [==============================] - 3s 13us/step - loss: 0.6877 - acc: 0.7320 - val_loss: 0.7555 - val_acc: 0.7366\n",
      "Epoch 82/100\n",
      "199019/199019 [==============================] - 3s 13us/step - loss: 0.6965 - acc: 0.7275 - val_loss: 0.7587 - val_acc: 0.7340\n",
      "Epoch 83/100\n",
      "199019/199019 [==============================] - 3s 14us/step - loss: 0.6877 - acc: 0.7321 - val_loss: 0.7593 - val_acc: 0.7269\n",
      "Epoch 84/100\n",
      "199019/199019 [==============================] - 3s 14us/step - loss: 0.6917 - acc: 0.7287 - val_loss: 0.7597 - val_acc: 0.7295\n",
      "Epoch 85/100\n",
      "199019/199019 [==============================] - 3s 14us/step - loss: 0.6879 - acc: 0.7318 - val_loss: 0.7712 - val_acc: 0.7104\n",
      "Epoch 86/100\n",
      "199019/199019 [==============================] - 3s 14us/step - loss: 0.6882 - acc: 0.7302 - val_loss: 0.7585 - val_acc: 0.7293\n",
      "Epoch 87/100\n",
      "199019/199019 [==============================] - 3s 14us/step - loss: 0.6876 - acc: 0.7313 - val_loss: 0.7697 - val_acc: 0.7312\n",
      "Epoch 88/100\n",
      "199019/199019 [==============================] - 3s 14us/step - loss: 0.6883 - acc: 0.7315 - val_loss: 0.7582 - val_acc: 0.7370\n",
      "Epoch 89/100\n",
      "199019/199019 [==============================] - 3s 14us/step - loss: 0.6873 - acc: 0.7312 - val_loss: 0.7557 - val_acc: 0.7376\n",
      "Epoch 90/100\n",
      "199019/199019 [==============================] - 3s 14us/step - loss: 0.6888 - acc: 0.7300 - val_loss: 0.7582 - val_acc: 0.7344\n",
      "Epoch 91/100\n",
      "199019/199019 [==============================] - 3s 14us/step - loss: 0.6870 - acc: 0.7321 - val_loss: 0.7553 - val_acc: 0.7378\n",
      "Epoch 92/100\n",
      "199019/199019 [==============================] - 3s 13us/step - loss: 0.6861 - acc: 0.7318 - val_loss: 0.7551 - val_acc: 0.7339\n",
      "Epoch 93/100\n",
      "199019/199019 [==============================] - 3s 13us/step - loss: 0.6892 - acc: 0.7307 - val_loss: 0.7562 - val_acc: 0.7331\n",
      "Epoch 94/100\n",
      "199019/199019 [==============================] - 3s 13us/step - loss: 0.6878 - acc: 0.7314 - val_loss: 0.7544 - val_acc: 0.7308\n",
      "Epoch 95/100\n",
      "199019/199019 [==============================] - 3s 13us/step - loss: 0.6876 - acc: 0.7310 - val_loss: 0.7583 - val_acc: 0.7341\n",
      "Epoch 96/100\n",
      "199019/199019 [==============================] - 3s 14us/step - loss: 0.6884 - acc: 0.7316 - val_loss: 0.7559 - val_acc: 0.7355\n",
      "Epoch 97/100\n",
      "199019/199019 [==============================] - 3s 14us/step - loss: 0.6881 - acc: 0.7306 - val_loss: 0.7579 - val_acc: 0.7288\n",
      "Epoch 98/100\n",
      "199019/199019 [==============================] - 3s 13us/step - loss: 0.6865 - acc: 0.7329 - val_loss: 0.7538 - val_acc: 0.7337\n",
      "Epoch 99/100\n",
      "199019/199019 [==============================] - 3s 13us/step - loss: 0.6947 - acc: 0.7290 - val_loss: 0.7779 - val_acc: 0.7276\n",
      "Epoch 100/100\n",
      "199019/199019 [==============================] - 3s 13us/step - loss: 0.6863 - acc: 0.7338 - val_loss: 0.7552 - val_acc: 0.7250\n"
     ]
    },
    {
     "data": {
      "text/plain": [
       "<keras.engine.training.Model at 0x7f04424100b8>"
      ]
     },
     "execution_count": 36,
     "metadata": {},
     "output_type": "execute_result"
    }
   ],
   "source": [
    "nb_epoch = 100\n",
    "batch_size = 128\n",
    "autoencoder.compile(metrics=['accuracy'],\n",
    "                    loss='mean_squared_error',\n",
    "                    optimizer='adam')\n",
    "\n",
    "checkpointer = ModelCheckpoint(filepath='autoencoder_fraud.h5',\n",
    "                               save_best_only=True,\n",
    "                               verbose=0)\n",
    "\n",
    "tensorboard = TensorBoard(log_dir='./logs',\n",
    "                          histogram_freq=0,\n",
    "                          write_graph=True,\n",
    "                          write_images=True)\n",
    "\n",
    "history = autoencoder.fit(X1_train, X1_train,\n",
    "                          epochs=nb_epoch,\n",
    "                          batch_size=batch_size,\n",
    "                          shuffle=True,\n",
    "                          validation_data=(X1_test, X1_test),\n",
    "                          verbose=1,\n",
    "                          callbacks=[checkpointer, tensorboard]).history\n",
    "load_model('autoencoder_fraud.h5')\n"
   ]
  },
  {
   "cell_type": "markdown",
   "metadata": {
    "_uuid": "5d9d9ae24d138c6ab971d616885d3a5688f1f1cf"
   },
   "source": [
    "## Model Evaluation"
   ]
  },
  {
   "cell_type": "markdown",
   "metadata": {
    "_uuid": "58ac77bdfc761e80ae688ee67484f4bcd902df69"
   },
   "source": [
    "The model seems to be performing well enough, although there is significant room for improvement by adding more hidden layers.   \n",
    "More hidden layers would allow this network to encode more complex relationships between the input features. \n",
    "The loss of our current model seems to be converging and more training epochs are not likely going to help.  "
   ]
  },
  {
   "cell_type": "code",
   "execution_count": 37,
   "metadata": {
    "_uuid": "206848bb79f4b57e61f45383568b1f5eae407f56"
   },
   "outputs": [
    {
     "data": {
      "text/plain": [
       "<matplotlib.legend.Legend at 0x7f044100fd68>"
      ]
     },
     "execution_count": 37,
     "metadata": {},
     "output_type": "execute_result"
    },
    {
     "data": {
      "image/png": "[encoded data removed]",
      "text/plain": [
       "<Figure size 432x288 with 1 Axes>"
      ]
     },
     "metadata": {},
     "output_type": "display_data"
    }
   ],
   "source": [
    "plt.plot(history['loss'])\n",
    "plt.plot(history['val_loss'])\n",
    "plt.title('model loss')\n",
    "plt.ylabel('loss')\n",
    "plt.xlabel('epoch')\n",
    "plt.legend(['train', 'test'], loc='upper right')"
   ]
  },
  {
   "cell_type": "markdown",
   "metadata": {
    "_uuid": "df91b2c1cb4436acd768dc8ceb74fcdb43e50ac0"
   },
   "source": [
    "## Reconstruction Error\n",
    "Autoencoders are trained to reduce reconstruction error. \n"
   ]
  },
  {
   "cell_type": "code",
   "execution_count": 38,
   "metadata": {
    "_uuid": "2eac19f00c4a03fbd2e317928725119e2edbc644"
   },
   "outputs": [
    {
     "data": {
      "text/html": [
       "<div>\n",
       "<style scoped>\n",
       "    .dataframe tbody tr th:only-of-type {\n",
       "        vertical-align: middle;\n",
       "    }\n",
       "\n",
       "    .dataframe tbody tr th {\n",
       "        vertical-align: top;\n",
       "    }\n",
       "\n",
       "    .dataframe thead th {\n",
       "        text-align: right;\n",
       "    }\n",
       "</style>\n",
       "<table border=\"1\" class=\"dataframe\">\n",
       "  <thead>\n",
       "    <tr style=\"text-align: right;\">\n",
       "      <th></th>\n",
       "      <th>reconstruction_error</th>\n",
       "      <th>true_class</th>\n",
       "    </tr>\n",
       "  </thead>\n",
       "  <tbody>\n",
       "    <tr>\n",
       "      <th>count</th>\n",
       "      <td>85443.000000</td>\n",
       "      <td>85443.000000</td>\n",
       "    </tr>\n",
       "    <tr>\n",
       "      <th>mean</th>\n",
       "      <td>0.749794</td>\n",
       "      <td>0.001720</td>\n",
       "    </tr>\n",
       "    <tr>\n",
       "      <th>std</th>\n",
       "      <td>13.327914</td>\n",
       "      <td>0.041443</td>\n",
       "    </tr>\n",
       "    <tr>\n",
       "      <th>min</th>\n",
       "      <td>0.054882</td>\n",
       "      <td>0.000000</td>\n",
       "    </tr>\n",
       "    <tr>\n",
       "      <th>25%</th>\n",
       "      <td>0.245621</td>\n",
       "      <td>0.000000</td>\n",
       "    </tr>\n",
       "    <tr>\n",
       "      <th>50%</th>\n",
       "      <td>0.380879</td>\n",
       "      <td>0.000000</td>\n",
       "    </tr>\n",
       "    <tr>\n",
       "      <th>75%</th>\n",
       "      <td>0.601047</td>\n",
       "      <td>0.000000</td>\n",
       "    </tr>\n",
       "    <tr>\n",
       "      <th>max</th>\n",
       "      <td>3607.752783</td>\n",
       "      <td>1.000000</td>\n",
       "    </tr>\n",
       "  </tbody>\n",
       "</table>\n",
       "</div>"
      ],
      "text/plain": [
       "       reconstruction_error    true_class\n",
       "count          85443.000000  85443.000000\n",
       "mean               0.749794      0.001720\n",
       "std               13.327914      0.041443\n",
       "min                0.054882      0.000000\n",
       "25%                0.245621      0.000000\n",
       "50%                0.380879      0.000000\n",
       "75%                0.601047      0.000000\n",
       "max             3607.752783      1.000000"
      ]
     },
     "execution_count": 38,
     "metadata": {},
     "output_type": "execute_result"
    }
   ],
   "source": [
    "predictions = autoencoder.predict(X1_test)\n",
    "mse = np.mean(np.power(X1_test - predictions, 2), axis=1)\n",
    "df_error = pd.DataFrame({'reconstruction_error': mse,\n",
    "                        'true_class': y1_test})\n",
    "df_error.describe()"
   ]
  },
  {
   "cell_type": "markdown",
   "metadata": {
    "_uuid": "36f965feddcff0f4a77acb5db4755956814eb67b"
   },
   "source": [
    "## ROC Curve \n",
    "Since we have an imbalanced data set, Receiver Operating Characteristic Curves are not that useful although it's an expected output of most binary classifiers.   \n",
    "Because you can generate a pretty good-looking curve by just simply guessing each one is the non-fraud case. \n",
    "But let’s have a look at ROC curve first."
   ]
  },
  {
   "cell_type": "code",
   "execution_count": 39,
   "metadata": {
    "_uuid": "26c839f2dba6e8fe21ab3b8999544b96849a5ffd"
   },
   "outputs": [
    {
     "data": {
      "image/png": "[encoded data removed]",
      "text/plain": [
       "<Figure size 432x288 with 1 Axes>"
      ]
     },
     "metadata": {},
     "output_type": "display_data"
    }
   ],
   "source": [
    "# Import modules\n",
    "from sklearn.metrics import auc, roc_curve,precision_recall_curve\n",
    "from sklearn.metrics import confusion_matrix,classification_report\n",
    "from sklearn.metrics import recall_score,f1_score,precision_recall_fscore_support\n",
    "\n",
    "false_positive_rate, true_positive_rate, thresholds = roc_curve(df_error.true_class, df_error.reconstruction_error)\n",
    "roc_auc = auc(false_positive_rate, true_positive_rate)\n",
    "\n",
    "# Plot the roc curve \n",
    "plot_roc_curve(false_positive_rate,true_positive_rate,roc_auc)"
   ]
  },
  {
   "cell_type": "markdown",
   "metadata": {
    "_uuid": "506d738831b1e15d738165ac7b98f33b61980901"
   },
   "source": [
    "The ROC curve plots the true positive rate versus the false positive rate, over different threshold values.  \n",
    "We basically want the blue line to be as close as possible to the upper left corner.   \n",
    "As our dataset is quite imbalanced, ROC doesn’t look very useful for us even though the results look pretty good."
   ]
  },
  {
   "cell_type": "markdown",
   "metadata": {
    "_uuid": "76e93859f90fafbdd8122e42144ad68b68a7cd61"
   },
   "source": [
    "## Recall vs. Precision\n",
    "Considering the imbalance of our dataset, we take a look at the Recall vs. Precision trade off."
   ]
  },
  {
   "cell_type": "code",
   "execution_count": 40,
   "metadata": {
    "_uuid": "1adcdb0a6a2127843b6b862df0e9d2120a63d420"
   },
   "outputs": [
    {
     "data": {
      "image/png": "[encoded data removed]",
      "text/plain": [
       "<Figure size 432x288 with 1 Axes>"
      ]
     },
     "metadata": {},
     "output_type": "display_data"
    },
    {
     "name": "stdout",
     "output_type": "stream",
     "text": [
      "None\n"
     ]
    },
    {
     "data": {
      "image/png": "[encoded data removed]",
      "text/plain": [
       "<Figure size 432x288 with 1 Axes>"
      ]
     },
     "metadata": {},
     "output_type": "display_data"
    },
    {
     "name": "stdout",
     "output_type": "stream",
     "text": [
      "None\n"
     ]
    }
   ],
   "source": [
    "precision, recall, thresholds = precision_recall_curve(df_error.true_class, df_error.reconstruction_error)\n",
    "\n",
    "# Plot recall precision tradeoff\n",
    "plt.plot(recall, precision, linewidth=5, label='Precision-Recall curve')\n",
    "plt.title('Recall vs Precision')\n",
    "plt.xlabel('Recall')\n",
    "plt.ylabel('Precision')\n",
    "print(plt.show())\n",
    "\n",
    "# Plot precision and recall for different thresholds\n",
    "plt.plot(thresholds, precision[1:], label=\"Precision\",linewidth=5)\n",
    "plt.plot(thresholds, recall[1:], label=\"Recall\",linewidth=5)\n",
    "plt.title('Precision and recall for different threshold values')\n",
    "plt.xlabel('Threshold')\n",
    "plt.ylabel('Precision/Recall')\n",
    "plt.legend()\n",
    "print(plt.show())"
   ]
  },
  {
   "cell_type": "markdown",
   "metadata": {
    "_uuid": "c0671be04c5b4b5c18621daff950ae312d27da23"
   },
   "source": [
    "## Prediction\n",
    "In order to predict whether or not a new transaction is normal or fraudulent, we’ll calculate the reconstruction error from the transaction data itself.   \n",
    "If the error is larger than a predefined threshold, we’ll mark it as a fraud (since our model should have a low error on normal transactions). \n"
   ]
  },
  {
   "cell_type": "code",
   "execution_count": 41,
   "metadata": {
    "_uuid": "1720cac3375d9c5cd1ee17fae3b6cb708c723548"
   },
   "outputs": [
    {
     "data": {
      "image/png": "[encoded data removed]",
      "text/plain": [
       "<Figure size 432x288 with 1 Axes>"
      ]
     },
     "metadata": {},
     "output_type": "display_data"
    }
   ],
   "source": [
    "# Set a threshold\n",
    "set_threshold = 5\n",
    "groups = df_error.groupby('true_class')\n",
    "fig, ax = plt.subplots()\n",
    "\n",
    "for name, group in groups:\n",
    "    ax.plot(group.index, \n",
    "            group.reconstruction_error, \n",
    "            marker='o', \n",
    "            ms=3.5, \n",
    "            linestyle='',\n",
    "            label= \"Fraud\" if name == 1 else \"Nonfraud\")\n",
    "    \n",
    "ax.hlines(set_threshold, \n",
    "          ax.get_xlim()[0], \n",
    "          ax.get_xlim()[1], \n",
    "          colors=\"r\", \n",
    "          zorder=100, \n",
    "          label='Threshold')\n",
    "\n",
    "ax.legend()\n",
    "plt.title(\"Reconstruction error for different classes\")\n",
    "plt.ylabel(\"Reconstruction error\")\n",
    "plt.xlabel(\"Data point index\")\n",
    "plt.show()"
   ]
  },
  {
   "cell_type": "markdown",
   "metadata": {
    "_uuid": "41e5b35d61313983535142893cd67d868e08a763"
   },
   "source": [
    "## Confusion Matrix"
   ]
  },
  {
   "cell_type": "code",
   "execution_count": 42,
   "metadata": {
    "_uuid": "38fd1b7e483c6088bedaeba9e826096972ea9e22"
   },
   "outputs": [
    {
     "name": "stdout",
     "output_type": "stream",
     "text": [
      "Confusion_matrix:\n",
      " [[84375   921]\n",
      " [   48    99]]\n"
     ]
    }
   ],
   "source": [
    "y_pred = [1 if e > set_threshold else 0 for e in df_error.reconstruction_error.values]\n",
    "print('Confusion_matrix:\\n',confusion_matrix(df_error.true_class, y_pred))"
   ]
  },
  {
   "cell_type": "markdown",
   "metadata": {
    "_uuid": "f62eef790215ae01fb03b75bd84a10be21a124c7"
   },
   "source": [
    "A very simple Deep Autoencoder in Keras can reconstruct what non fraudulent transactions looks like this. "
   ]
  }
 ],
 "metadata": {
  "kernelspec": {
   "display_name": "Python 3",
   "language": "python",
   "name": "python3"
  },
  "language_info": {
   "codemirror_mode": {
    "name": "ipython",
    "version": 3
   },
   "file_extension": ".py",
   "mimetype": "text/x-python",
   "name": "python",
   "nbconvert_exporter": "python",
   "pygments_lexer": "ipython3",
   "version": "3.6.6"
  }
 },
 "nbformat": 4,
 "nbformat_minor": 1
}
